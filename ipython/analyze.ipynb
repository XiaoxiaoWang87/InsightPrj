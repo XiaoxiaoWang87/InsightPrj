{
 "metadata": {
  "name": "",
  "signature": "sha256:e5ced3bd5bd8555287a95eb9c242f1be29aafd316d212dfbb63c7a019a3fabb6"
 },
 "nbformat": 3,
 "nbformat_minor": 0,
 "worksheets": [
  {
   "cells": [
    {
     "cell_type": "code",
     "collapsed": false,
     "input": [
      "import pandas as pd\n",
      "import numpy as np\n",
      "import json\n",
      "import matplotlib.pyplot as plt\n",
      "import pylab as pl\n",
      "import sklearn\n",
      "\n",
      "import matplotlib as mpl\n",
      "\n",
      "from sklearn.linear_model import LogisticRegression\n",
      "from sklearn.cross_validation import train_test_split\n",
      "from sklearn import metrics\n",
      "from sklearn.cross_validation import cross_val_score\n",
      "from sklearn.feature_extraction import DictVectorizer\n",
      "from sklearn_pandas import DataFrameMapper, cross_val_score\n",
      "\n",
      "from mpl_toolkits.mplot3d import Axes3D"
     ],
     "language": "python",
     "metadata": {},
     "outputs": [],
     "prompt_number": 4
    },
    {
     "cell_type": "code",
     "collapsed": false,
     "input": [
      "\n",
      "allstar_df = pd.read_csv('allstar_gamelog.csv',sep='\\t')\n",
      "\n",
      "MJ_s = allstar_df[\"FGA\"].fillna(0)[(allstar_df[\"Player_ID\"] == 893) & (allstar_df[\"SEASON_ID\"] >= 21984) & (allstar_df[\"SEASON_ID\"] <= 21985)]\n",
      "KB_s = allstar_df[\"FGA\"].fillna(0)[(allstar_df[\"Player_ID\"] == 977) & (allstar_df[\"SEASON_ID\"] == 22003) ]\n",
      "\n",
      "    #print MJ_s\n",
      "    #for i, row in MJ_s:\n",
      "    #    print row['FGA']\n",
      "\n",
      "    #print MJ_s.mean()\n",
      "    #print KB_s.mean()\n",
      "\n",
      "#plt.figure()\n",
      "\n",
      "MJ_s.hist(normed=True, bins=10, range=(0,50), alpha=0.4)\n",
      "#KB_s.hist(normed=True, bins=10, range=(0,50), alpha=0.4)\n",
      "\n",
      "    #plt.annotate('local max', xy=(20, 0.05))\n",
      "\n",
      "\n",
      "sb_df = pd.read_csv('player_gamelog.csv',sep='\\t')\n",
      "SB_s = sb_df[\"FGA\"][(sb_df[\"Player_ID\"] == 76001) & (sb_df[\"SEASON_ID\"] >= 21990) & (sb_df[\"SEASON_ID\"] <= 21992)]\n",
      "SB_s.hist(normed=True, bins=10, range=(0,50), alpha=0.4)\n",
      "\n",
      "\n",
      "#MJ_df = pd.DataFrame(MJ_s, columns=['FGA'])\n",
      "#SB_df = pd.DataFrame(SB_s, columns=['FGA'])\n",
      "\n",
      "MJ_df = allstar_df[[\"FGA\",\"AST\",\"REB\"]][(allstar_df[\"Player_ID\"] == 893) & (allstar_df[\"SEASON_ID\"] >= 21984) & (allstar_df[\"SEASON_ID\"] <= 21985)]\n",
      "SB_df = sb_df[[\"FGA\",\"AST\",\"REB\"]][(sb_df[\"Player_ID\"] == 76001) & (sb_df[\"SEASON_ID\"] >= 21990) & (sb_df[\"SEASON_ID\"] <= 21992)]\n",
      "\n",
      "\n",
      "    #print MJ_df\n",
      "    #print SB_df\n",
      "\n",
      "X_sig = array(MJ_df.fillna(0))\n",
      "#print X_sig\n",
      "    #X_sig = MJ_s.values[:]\n",
      "print X_sig.shape\n",
      "y_sig = np.array(X_sig.shape[0] * [1])\n",
      "#print y_sig\n",
      "print y_sig.shape\n",
      "\n",
      "X_bkg = array(SB_df.fillna(0))\n",
      "    #print X_bkg\n",
      "    #X_bkg = SB_s.values[:]\n",
      "print X_bkg.shape\n",
      "y_bkg = np.array(X_bkg.shape[0] * [0])\n",
      "print y_bkg.shape\n",
      "\n",
      "\n",
      "X = np.concatenate((X_sig, X_bkg))\n",
      "y = np.concatenate((y_sig, y_bkg))\n",
      "\n",
      "print X.shape\n",
      "print y.shape\n",
      "model = LogisticRegression()\n",
      "model.fit(X, y)\n",
      "print model.score(X, y)\n",
      "print y.mean()\n",
      "\n",
      "#LogisticRegression(C=1.0, class_weight=None, dual=False, fit_intercept=True,\n",
      "#          intercept_scaling=1, penalty='l2', random_state=None, tol=0.0001)\n",
      "print model.predict_proba(np.array([20,2,1]))\n",
      "\n",
      "\n",
      "\n",
      "\n",
      "allstarinfo_df = pd.read_csv('allstar_log.csv',sep='\\t')\n",
      "\n",
      "allstar_list = []\n",
      "yrs_up_to_first = []\n",
      "for index, row in allstarinfo_df.iterrows():\n",
      "    if row['PLAYER_ID'] not in allstar_list:\n",
      "        allstar_list.append(row['PLAYER_ID'])\n",
      "    else:\n",
      "        continue\n",
      "    \n",
      "    if row['SEASON'] < 1980:\n",
      "        continue\n",
      "        \n",
      "    #print row['PLAYER']\n",
      "    \n",
      "    yrs_up_to_first.append(float(row['EXP'].replace(\"R\", \"0\")))\n",
      "    \n",
      "plt.figure()\n",
      "\n",
      "#yrs_up_to_first_s = allstarinfo_df[\"EXP\"].fillna(0)\n",
      "#yrs_up_to_first_s.hist(normed=False, bins=15, range=(0,15), alpha=0.4)\n",
      "print len(yrs_up_to_first)\n",
      "yrs_up_to_first_s = pd.Series(np.array(yrs_up_to_first))\n",
      "yrs_up_to_first_s.hist(normed=False, bins=15, range=(0,15), alpha=0.4)\n",
      "plt.xlabel('Number of Years Takes to be an All-star')\n",
      "\n",
      "mpl.style.use('ggplot')\n",
      "plt.savefig(\"Nyears_allstar\", format='pdf')"
     ],
     "language": "python",
     "metadata": {},
     "outputs": [
      {
       "output_type": "stream",
       "stream": "stdout",
       "text": [
        "(100, 3)\n",
        "(100,)\n",
        "(189, 3)\n",
        "(189,)\n",
        "(289, 3)\n",
        "(289,)\n",
        "1.0\n",
        "0.346020761246\n",
        "[[ 0.01181085  0.98818915]]\n",
        "202"
       ]
      },
      {
       "output_type": "stream",
       "stream": "stdout",
       "text": [
        "\n"
       ]
      },
      {
       "metadata": {},
       "output_type": "display_data",
       "png": "[encoded data removed]",
       "text": [
        "<matplotlib.figure.Figure at 0x10b79b910>"
       ]
      },
      {
       "metadata": {},
       "output_type": "display_data",
       "png": "[encoded data removed]",
       "text": [
        "<matplotlib.figure.Figure at 0x10be71610>"
       ]
      }
     ],
     "prompt_number": 6
    },
    {
     "cell_type": "code",
     "collapsed": false,
     "input": [
      "df = {}\n",
      "\n",
      "df['allstarinfo'] = pd.read_csv('allstar_log.csv',sep='\\t')\n",
      "\n",
      "allstar_list = []\n",
      "allstar_post1980_list = []\n",
      "yrs_up_to_first = []\n",
      "\n",
      "for index, row in df['allstarinfo'].iterrows():\n",
      "    if row['PLAYER_ID'] not in allstar_list:\n",
      "        allstar_list.append(row['PLAYER_ID'])\n",
      "    else:\n",
      "        continue\n",
      "\n",
      "    if row['SEASON'] < 1980:\n",
      "        continue\n",
      "\n",
      "    allstar_post1980_list.append(row['PLAYER_ID'])\n",
      "\n",
      "print allstar_post1980_list\n",
      "    #print row['PLAYER']\n",
      "\n",
      "\n",
      "\n",
      "df['player_post1980_log'] = pd.read_csv('player_post1980_inclusive_log.csv',sep='\\t')\n",
      "\n",
      "\n",
      "df['allstar_post1980_log'] = df['player_post1980_log'][(df['player_post1980_log'][\"Player_ID\"].isin(allstar_post1980_list))].fillna(0)\n",
      "df['nonstar_post1980_log'] = df['player_post1980_log'][(~df['player_post1980_log'][\"Player_ID\"].isin(allstar_post1980_list))].fillna(0)\n",
      "\n",
      "#df['allstar_post1980_log'].to_csv('doesitwork_allstar.csv', sep='\\t', index=False)\n",
      "#df['nonstar_post1980_log'].to_csv('doesitwork_nonstar.csv', sep='\\t', index=False)\n",
      "\n",
      "s = {}\n",
      "plt.figure()\n",
      "s[\"allstar\"] = df['allstar_post1980_log'][\"FGA\"]\n",
      "s[\"nonstar\"] = df['nonstar_post1980_log'][\"FGA\"]\n",
      "\n",
      "s[\"allstar\"].hist(normed=True, bins=50, range=(0,50), alpha=0.4)\n",
      "s[\"nonstar\"].hist(normed=True, bins=50, range=(0,50), alpha=0.4)"
     ],
     "language": "python",
     "metadata": {},
     "outputs": [
      {
       "output_type": "stream",
       "stream": "stdout",
       "text": [
        "[77615, 305, 78310, 77626, 78318, 78369, 433, 76673, 77264, 77721, 78133, 78549, 76385, 100263, 78351, 77819, 78404, 1450, 78041, 76016, 76874, 78055, 187, 893, 76176, 77685, 77691, 165, 117, 1122, 17, 926, 1460, 787, 76353, 1472, 76726, 76017, 921, 121, 470, 76583, 77376, 252, 1365, 349, 899, 404, 76631, 107, 904, 304, 247, 397, 937, 23, 920, 134, 764, 765, 894, 896, 345, 149, 77384, 788, 204, 105, 87, 901, 913, 406, 96, 251, 431, 330, 72, 769, 302, 934, 270, 891, 317, 56, 782, 361, 84, 452, 344, 358, 238, 255, 297, 210, 436, 779, 467, 185, 363, 224, 708, 339, 423, 120, 952, 22, 420, 977, 89, 1495, 947, 299, 1713, 275, 905, 951, 711, 714, 739, 1503, 193, 213, 950, 124, 686, 1884, 949, 979, 1718, 1883, 1887, 959, 978, 1717, 1882, 1112, 980, 469, 1802, 2397, 1890, 2030, 2048, 2072, 1897, 208, 2240, 2548, 2544, 1712, 1740, 1938, 2405, 1497, 2547, 1888, 2225, 2200, 2207, 2406, 2730, 2246, 101108, 2430, 200750, 2546, 2561, 2590, 2749, 101122, 2734, 201565, 2222, 200765, 201143, 101135, 101114, 201142, 2549, 2216, 201566, 201933, 201567, 2736, 2738, 201579, 200746, 101115, 201188, 202681, 2199, 201572, 201950, 201149, 202331, 201935, 202322, 200794, 201942, 203081, 203076, 201939]\n"
       ]
      },
      {
       "metadata": {},
       "output_type": "pyout",
       "prompt_number": 39,
       "text": [
        "<matplotlib.axes.AxesSubplot at 0x12a7868d0>"
       ]
      },
      {
       "metadata": {},
       "output_type": "display_data",
       "png": "[encoded data removed]",
       "text": [
        "<matplotlib.figure.Figure at 0x119ec4050>"
       ]
      }
     ],
     "prompt_number": 39
    },
    {
     "cell_type": "code",
     "collapsed": false,
     "input": [],
     "language": "python",
     "metadata": {},
     "outputs": []
    }
   ],
   "metadata": {}
  }
 ]
}