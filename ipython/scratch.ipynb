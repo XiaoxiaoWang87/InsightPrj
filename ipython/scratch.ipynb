{
 "metadata": {
  "name": "",
  "signature": "sha256:0e8eb4300fb24f7c8f9454754a29050bba69eb0c3f4ce48c6ae293523b7c8302"
 },
 "nbformat": 3,
 "nbformat_minor": 0,
 "worksheets": [
  {
   "cells": [
    {
     "cell_type": "code",
     "collapsed": false,
     "input": [
      "import pandas as pd\n",
      "from sklearn.feature_extraction import DictVectorizer\n",
      "import time\n",
      "import datetime\n",
      "import pymysql as mdb"
     ],
     "language": "python",
     "metadata": {},
     "outputs": [],
     "prompt_number": 9
    },
    {
     "cell_type": "code",
     "collapsed": false,
     "input": [
      "   float_col  int_col str_col\n",
      "0        0.1        1       a\n",
      "1        0.2        2       b\n",
      "2        0.2        6     NaN\n",
      "3       10.1        8       c\n",
      "4        NaN       -1       a"
     ],
     "language": "python",
     "metadata": {},
     "outputs": [
      {
       "ename": "SyntaxError",
       "evalue": "invalid syntax (<ipython-input-2-03e303e0b54b>, line 1)",
       "output_type": "pyerr",
       "traceback": [
        "\u001b[0;36m  File \u001b[0;32m\"<ipython-input-2-03e303e0b54b>\"\u001b[0;36m, line \u001b[0;32m1\u001b[0m\n\u001b[0;31m    float_col  int_col str_col\u001b[0m\n\u001b[0m                     ^\u001b[0m\n\u001b[0;31mSyntaxError\u001b[0m\u001b[0;31m:\u001b[0m invalid syntax\n"
       ]
      }
     ],
     "prompt_number": 2
    },
    {
     "cell_type": "code",
     "collapsed": false,
     "input": [
      "df = pd.DataFrame({'float_col' : [0.1, 0.2, 0.2, 10.1],\n",
      "                   'int_col' : [1, 2, 6, 8],\n",
      "                   'str_col' : ['a','b','','c']})"
     ],
     "language": "python",
     "metadata": {},
     "outputs": [],
     "prompt_number": 34
    },
    {
     "cell_type": "code",
     "collapsed": false,
     "input": [
      "#df['new'] = pd.Series(0)\n",
      "df\n",
      "df['new'] = df['float_col'].map(lambda x: 0)\n",
      "df"
     ],
     "language": "python",
     "metadata": {},
     "outputs": [
      {
       "html": [
        "<div style=\"max-height:1000px;max-width:1500px;overflow:auto;\">\n",
        "<table border=\"1\" class=\"dataframe\">\n",
        "  <thead>\n",
        "    <tr style=\"text-align: right;\">\n",
        "      <th></th>\n",
        "      <th>float_col</th>\n",
        "      <th>int_col</th>\n",
        "      <th>str_col</th>\n",
        "      <th>new</th>\n",
        "    </tr>\n",
        "  </thead>\n",
        "  <tbody>\n",
        "    <tr>\n",
        "      <th>0</th>\n",
        "      <td>  0.1</td>\n",
        "      <td> 1</td>\n",
        "      <td> a</td>\n",
        "      <td> 0</td>\n",
        "    </tr>\n",
        "    <tr>\n",
        "      <th>1</th>\n",
        "      <td>  0.2</td>\n",
        "      <td> 2</td>\n",
        "      <td> b</td>\n",
        "      <td> 0</td>\n",
        "    </tr>\n",
        "    <tr>\n",
        "      <th>2</th>\n",
        "      <td>  0.2</td>\n",
        "      <td> 6</td>\n",
        "      <td>  </td>\n",
        "      <td> 0</td>\n",
        "    </tr>\n",
        "    <tr>\n",
        "      <th>3</th>\n",
        "      <td> 10.1</td>\n",
        "      <td> 8</td>\n",
        "      <td> c</td>\n",
        "      <td> 0</td>\n",
        "    </tr>\n",
        "  </tbody>\n",
        "</table>\n",
        "</div>"
       ],
       "metadata": {},
       "output_type": "pyout",
       "prompt_number": 43,
       "text": [
        "   float_col  int_col str_col  new\n",
        "0        0.1        1       a    0\n",
        "1        0.2        2       b    0\n",
        "2        0.2        6            0\n",
        "3       10.1        8       c    0"
       ]
      }
     ],
     "prompt_number": 43
    },
    {
     "cell_type": "code",
     "collapsed": false,
     "input": [
      "df.values[:,:-1]"
     ],
     "language": "python",
     "metadata": {},
     "outputs": [
      {
       "metadata": {},
       "output_type": "pyout",
       "prompt_number": 37,
       "text": [
        "array([[0.1, 1],\n",
        "       [0.2, 2],\n",
        "       [0.2, 6],\n",
        "       [10.1, 8]], dtype=object)"
       ]
      }
     ],
     "prompt_number": 37
    },
    {
     "cell_type": "code",
     "collapsed": false,
     "input": [
      "s = pd.Series([0.1, 0.2, 0.2, 10.1])\n",
      "s_new = array(s)\n",
      "s_new\n",
      "#s_d = s.to_dict()\n",
      "#s_d\n",
      "#vec = DictVectorizer()\n",
      "#vec.fit_transform(s_d).toarray()"
     ],
     "language": "python",
     "metadata": {},
     "outputs": [
      {
       "metadata": {},
       "output_type": "pyout",
       "prompt_number": 82,
       "text": [
        "array([  0.1,   0.2,   0.2,  10.1])"
       ]
      }
     ],
     "prompt_number": 82
    },
    {
     "cell_type": "code",
     "collapsed": false,
     "input": [
      "s_a = s.values[:]"
     ],
     "language": "python",
     "metadata": {},
     "outputs": [],
     "prompt_number": 57
    },
    {
     "cell_type": "code",
     "collapsed": false,
     "input": [
      "print s_a\n",
      "s_a.size"
     ],
     "language": "python",
     "metadata": {},
     "outputs": [
      {
       "output_type": "stream",
       "stream": "stdout",
       "text": [
        "[  0.1   0.2   0.2  10.1]\n"
       ]
      }
     ],
     "prompt_number": 76
    },
    {
     "cell_type": "code",
     "collapsed": false,
     "input": [
      "new = np.array(s_a.size * [0])"
     ],
     "language": "python",
     "metadata": {},
     "outputs": [],
     "prompt_number": 61
    },
    {
     "cell_type": "code",
     "collapsed": false,
     "input": [],
     "language": "python",
     "metadata": {},
     "outputs": [],
     "prompt_number": 61
    },
    {
     "cell_type": "code",
     "collapsed": false,
     "input": [
      "new2 = np.array([1,2,3,4])"
     ],
     "language": "python",
     "metadata": {},
     "outputs": [],
     "prompt_number": 62
    },
    {
     "cell_type": "code",
     "collapsed": false,
     "input": [
      "[0,0,0,0]+[1, 2, 3, 4]"
     ],
     "language": "python",
     "metadata": {},
     "outputs": [
      {
       "metadata": {},
       "output_type": "pyout",
       "prompt_number": 63,
       "text": [
        "[0, 0, 0, 0, 1, 2, 3, 4]"
       ]
      }
     ],
     "prompt_number": 63
    },
    {
     "cell_type": "code",
     "collapsed": false,
     "input": [
      "print new\n",
      "print new2\n",
      "#np.concatenate(new, new2)"
     ],
     "language": "python",
     "metadata": {},
     "outputs": [
      {
       "output_type": "stream",
       "stream": "stdout",
       "text": [
        "[0 0 0 0]\n",
        "[1 2 3 4]\n"
       ]
      }
     ],
     "prompt_number": 65
    },
    {
     "cell_type": "code",
     "collapsed": false,
     "input": [
      "np.concatenate((new, new2))"
     ],
     "language": "python",
     "metadata": {},
     "outputs": [
      {
       "metadata": {},
       "output_type": "pyout",
       "prompt_number": 66,
       "text": [
        "array([0, 0, 0, 0, 1, 2, 3, 4])"
       ]
      }
     ],
     "prompt_number": 66
    },
    {
     "cell_type": "code",
     "collapsed": false,
     "input": [
      "np.random.randn(3, 4)"
     ],
     "language": "python",
     "metadata": {},
     "outputs": [
      {
       "metadata": {},
       "output_type": "pyout",
       "prompt_number": 67,
       "text": [
        "array([[-0.98969703,  0.29595674,  1.23980624,  0.16743907],\n",
        "       [-0.05884891,  0.9712226 ,  0.83297786, -1.07791814],\n",
        "       [-0.89819131, -1.27591657, -1.35502698, -0.06420233]])"
       ]
      }
     ],
     "prompt_number": 67
    },
    {
     "cell_type": "code",
     "collapsed": false,
     "input": [
      "a = [ 1., -1.,  2.]"
     ],
     "language": "python",
     "metadata": {},
     "outputs": [],
     "prompt_number": 69
    },
    {
     "cell_type": "code",
     "collapsed": false,
     "input": [
      "a"
     ],
     "language": "python",
     "metadata": {},
     "outputs": [
      {
       "metadata": {},
       "output_type": "pyout",
       "prompt_number": 70,
       "text": [
        "[1.0, -1.0, 2.0]"
       ]
      }
     ],
     "prompt_number": 70
    },
    {
     "cell_type": "code",
     "collapsed": false,
     "input": [
      "x = np.array(6 * [[0],[0]])\n",
      "x.size"
     ],
     "language": "python",
     "metadata": {},
     "outputs": [
      {
       "metadata": {},
       "output_type": "pyout",
       "prompt_number": 8,
       "text": [
        "12"
       ]
      }
     ],
     "prompt_number": 8
    },
    {
     "cell_type": "code",
     "collapsed": false,
     "input": [
      "6 * [[1]]"
     ],
     "language": "python",
     "metadata": {},
     "outputs": [
      {
       "metadata": {},
       "output_type": "pyout",
       "prompt_number": 9,
       "text": [
        "[[1], [1], [1], [1], [1], [1]]"
       ]
      }
     ],
     "prompt_number": 9
    },
    {
     "cell_type": "code",
     "collapsed": false,
     "input": [
      "test_array = np.array(2 * [[1]])"
     ],
     "language": "python",
     "metadata": {},
     "outputs": [],
     "prompt_number": 10
    },
    {
     "cell_type": "code",
     "collapsed": false,
     "input": [
      "test_array.size"
     ],
     "language": "python",
     "metadata": {},
     "outputs": [
      {
       "metadata": {},
       "output_type": "pyout",
       "prompt_number": 11,
       "text": [
        "2"
       ]
      }
     ],
     "prompt_number": 11
    },
    {
     "cell_type": "code",
     "collapsed": false,
     "input": [
      "test_array"
     ],
     "language": "python",
     "metadata": {},
     "outputs": [
      {
       "metadata": {},
       "output_type": "pyout",
       "prompt_number": 6,
       "text": [
        "array([[1, 1],\n",
        "       [1, 1]])"
       ]
      }
     ],
     "prompt_number": 6
    },
    {
     "cell_type": "code",
     "collapsed": false,
     "input": [
      "testing = np.array(6 * [[1, 1]])"
     ],
     "language": "python",
     "metadata": {},
     "outputs": [],
     "prompt_number": 12
    },
    {
     "cell_type": "code",
     "collapsed": false,
     "input": [
      "testing.shape"
     ],
     "language": "python",
     "metadata": {},
     "outputs": [
      {
       "metadata": {},
       "output_type": "pyout",
       "prompt_number": 14,
       "text": [
        "(6, 2)"
       ]
      }
     ],
     "prompt_number": 14
    },
    {
     "cell_type": "code",
     "collapsed": false,
     "input": [
      "import numpy as np\n",
      "from mpl_toolkits.mplot3d import Axes3D\n",
      "import matplotlib.pyplot as plt\n",
      "import random\n",
      "\n",
      "def fun(x, y):\n",
      "  return x + y\n",
      "\n",
      "fig = plt.figure()\n",
      "ax = fig.add_subplot(111, projection='3d')\n",
      "n = 10\n",
      "xs = [i for i in range(n) for _ in range(n)]\n",
      "ys = range(n) * n\n",
      "zs = [fun(x, y) for x,y in zip(xs,ys)]\n",
      "\n",
      "ax.scatter(xs, ys, zs)\n",
      "\n",
      "ax.set_xlabel('X Label')\n",
      "ax.set_ylabel('Y Label')\n",
      "ax.set_zlabel('Z Label')\n",
      "\n",
      "plt.show()"
     ],
     "language": "python",
     "metadata": {},
     "outputs": [
      {
       "metadata": {},
       "output_type": "display_data",
       "png": "[encoded data removed]",
       "text": [
        "<matplotlib.figure.Figure at 0x1086effd0>"
       ]
      }
     ],
     "prompt_number": 1
    },
    {
     "cell_type": "code",
     "collapsed": false,
     "input": [
      "hey = pd.DataFrame({'float_col' : [0.1, 0.2, 0.2, 10.1],\n",
      "                    'int_col' : [1, 2, 6, 8],\n",
      "                    'str_col' : ['a','b','','c']})"
     ],
     "language": "python",
     "metadata": {},
     "outputs": [],
     "prompt_number": 51
    },
    {
     "cell_type": "code",
     "collapsed": false,
     "input": [
      "hey['new'] = hey[:0] + hey[:1]\n",
      "hey"
     ],
     "language": "python",
     "metadata": {},
     "outputs": [
      {
       "html": [
        "<div style=\"max-height:1000px;max-width:1500px;overflow:auto;\">\n",
        "<table border=\"1\" class=\"dataframe\">\n",
        "  <thead>\n",
        "    <tr style=\"text-align: right;\">\n",
        "      <th></th>\n",
        "      <th>float_col</th>\n",
        "      <th>int_col</th>\n",
        "      <th>str_col</th>\n",
        "      <th>new</th>\n",
        "    </tr>\n",
        "  </thead>\n",
        "  <tbody>\n",
        "    <tr>\n",
        "      <th>0</th>\n",
        "      <td>  0.1</td>\n",
        "      <td> 1</td>\n",
        "      <td> a</td>\n",
        "      <td> NaN</td>\n",
        "    </tr>\n",
        "    <tr>\n",
        "      <th>1</th>\n",
        "      <td>  0.2</td>\n",
        "      <td> 2</td>\n",
        "      <td> b</td>\n",
        "      <td> NaN</td>\n",
        "    </tr>\n",
        "    <tr>\n",
        "      <th>2</th>\n",
        "      <td>  0.2</td>\n",
        "      <td> 6</td>\n",
        "      <td>  </td>\n",
        "      <td> NaN</td>\n",
        "    </tr>\n",
        "    <tr>\n",
        "      <th>3</th>\n",
        "      <td> 10.1</td>\n",
        "      <td> 8</td>\n",
        "      <td> c</td>\n",
        "      <td> NaN</td>\n",
        "    </tr>\n",
        "  </tbody>\n",
        "</table>\n",
        "</div>"
       ],
       "metadata": {},
       "output_type": "pyout",
       "prompt_number": 55,
       "text": [
        "   float_col  int_col str_col  new\n",
        "0        0.1        1       a  NaN\n",
        "1        0.2        2       b  NaN\n",
        "2        0.2        6          NaN\n",
        "3       10.1        8       c  NaN"
       ]
      }
     ],
     "prompt_number": 55
    },
    {
     "cell_type": "code",
     "collapsed": false,
     "input": [
      "new_hey=hey[(hey['int_col']>5)]"
     ],
     "language": "python",
     "metadata": {},
     "outputs": [],
     "prompt_number": 6
    },
    {
     "cell_type": "code",
     "collapsed": false,
     "input": [
      "new_hey"
     ],
     "language": "python",
     "metadata": {},
     "outputs": [
      {
       "html": [
        "<div style=\"max-height:1000px;max-width:1500px;overflow:auto;\">\n",
        "<table border=\"1\" class=\"dataframe\">\n",
        "  <thead>\n",
        "    <tr style=\"text-align: right;\">\n",
        "      <th></th>\n",
        "      <th>float_col</th>\n",
        "      <th>int_col</th>\n",
        "      <th>str_col</th>\n",
        "    </tr>\n",
        "  </thead>\n",
        "  <tbody>\n",
        "    <tr>\n",
        "      <th>2</th>\n",
        "      <td>  0.2</td>\n",
        "      <td> 6</td>\n",
        "      <td>  </td>\n",
        "    </tr>\n",
        "    <tr>\n",
        "      <th>3</th>\n",
        "      <td> 10.1</td>\n",
        "      <td> 8</td>\n",
        "      <td> c</td>\n",
        "    </tr>\n",
        "  </tbody>\n",
        "</table>\n",
        "</div>"
       ],
       "metadata": {},
       "output_type": "pyout",
       "prompt_number": 7,
       "text": [
        "   float_col  int_col str_col\n",
        "2        0.2        6        \n",
        "3       10.1        8       c"
       ]
      }
     ],
     "prompt_number": 7
    },
    {
     "cell_type": "code",
     "collapsed": false,
     "input": [
      "#game_time = time.strptime('03.21.2003', \"%m.%d.%y\") \n",
      "a=time.strptime(\"MAR 30, 1987\", \"%b %d, %Y\") "
     ],
     "language": "python",
     "metadata": {},
     "outputs": [],
     "prompt_number": 36
    },
    {
     "cell_type": "code",
     "collapsed": false,
     "input": [
      "a[0], a[1], a[2]"
     ],
     "language": "python",
     "metadata": {},
     "outputs": [
      {
       "metadata": {},
       "output_type": "pyout",
       "prompt_number": 37,
       "text": [
        "(1987, 3, 30)"
       ]
      }
     ],
     "prompt_number": 37
    },
    {
     "cell_type": "code",
     "collapsed": false,
     "input": [
      "'2012-06-12' > '2012-06-11' "
     ],
     "language": "python",
     "metadata": {},
     "outputs": [
      {
       "metadata": {},
       "output_type": "pyout",
       "prompt_number": 25,
       "text": [
        "True"
       ]
      }
     ],
     "prompt_number": 25
    },
    {
     "cell_type": "code",
     "collapsed": false,
     "input": [
      "np.array([1, 2, 3, 4, 1, 4, 1]).count(1)"
     ],
     "language": "python",
     "metadata": {},
     "outputs": [
      {
       "ename": "AttributeError",
       "evalue": "'numpy.ndarray' object has no attribute 'count'",
       "output_type": "pyerr",
       "traceback": [
        "\u001b[0;31m---------------------------------------------------------------------------\u001b[0m\n\u001b[0;31mAttributeError\u001b[0m                            Traceback (most recent call last)",
        "\u001b[0;32m<ipython-input-44-92d751d88bfd>\u001b[0m in \u001b[0;36m<module>\u001b[0;34m()\u001b[0m\n\u001b[0;32m----> 1\u001b[0;31m \u001b[0mnp\u001b[0m\u001b[0;34m.\u001b[0m\u001b[0marray\u001b[0m\u001b[0;34m(\u001b[0m\u001b[0;34m[\u001b[0m\u001b[0;36m1\u001b[0m\u001b[0;34m,\u001b[0m \u001b[0;36m2\u001b[0m\u001b[0;34m,\u001b[0m \u001b[0;36m3\u001b[0m\u001b[0;34m,\u001b[0m \u001b[0;36m4\u001b[0m\u001b[0;34m,\u001b[0m \u001b[0;36m1\u001b[0m\u001b[0;34m,\u001b[0m \u001b[0;36m4\u001b[0m\u001b[0;34m,\u001b[0m \u001b[0;36m1\u001b[0m\u001b[0;34m]\u001b[0m\u001b[0;34m)\u001b[0m\u001b[0;34m.\u001b[0m\u001b[0mcount\u001b[0m\u001b[0;34m(\u001b[0m\u001b[0;36m1\u001b[0m\u001b[0;34m)\u001b[0m\u001b[0;34m\u001b[0m\u001b[0m\n\u001b[0m",
        "\u001b[0;31mAttributeError\u001b[0m: 'numpy.ndarray' object has no attribute 'count'"
       ]
      }
     ],
     "prompt_number": 44
    },
    {
     "cell_type": "code",
     "collapsed": false,
     "input": [
      "a = [[0 0] [5 3] [7 2]]"
     ],
     "language": "python",
     "metadata": {},
     "outputs": [
      {
       "ename": "SyntaxError",
       "evalue": "invalid syntax (<ipython-input-49-68f7ed2c3da1>, line 1)",
       "output_type": "pyerr",
       "traceback": [
        "\u001b[0;36m  File \u001b[0;32m\"<ipython-input-49-68f7ed2c3da1>\"\u001b[0;36m, line \u001b[0;32m1\u001b[0m\n\u001b[0;31m    a = [[0 0] [5 3] [7 2]]\u001b[0m\n\u001b[0m            ^\u001b[0m\n\u001b[0;31mSyntaxError\u001b[0m\u001b[0;31m:\u001b[0m invalid syntax\n"
       ]
      }
     ],
     "prompt_number": 49
    },
    {
     "cell_type": "code",
     "collapsed": false,
     "input": [
      "    # now working on the database version\n",
      "    db = mdb.connect(user=\"root\", host=\"localhost\", db=\"gamelogdb\", charset='utf8')\n",
      "    cur = db.cursor(mdb.cursors.DictCursor)\n",
      "    #cur.execute(\"SELECT Name, CountryCode, Population FROM city ORDER BY Population DESC;\")\n",
      "    cur.execute(\"SELECT PTS,AST,REB FROM star WHERE PLAYED<=10 AND LEARN_INDICATOR=1;\")\n",
      "    query_results = cur.fetchall()\n",
      "    print query_results\n",
      "    df_test = pd.DataFrame(query_results)\n",
      "    df_test"
     ],
     "language": "python",
     "metadata": {},
     "outputs": [
      {
       "output_type": "stream",
       "stream": "stdout",
       "text": [
        "[{u'REB': 0.0, u'PTS': 2, u'AST': 0.0}, {u'REB': 0.0, u'PTS': 12, u'AST': 0.0}, {u'REB': 0.0, u'PTS': 0, u'AST': 0.0}, {u'REB': 0.0, u'PTS': 2, u'AST': 0.0}, {u'REB': 0.0, u'PTS': 10, u'AST': 0.0}, {u'REB': 0.0, u'PTS': 20, u'AST': 0.0}, {u'REB': 0.0, u'PTS': 0, u'AST': 0.0}, {u'REB': 0.0, u'PTS': 6, u'AST': 0.0}, {u'REB': 0.0, u'PTS': 14, u'AST': 0.0}, {u'REB': 0.0, u'PTS': 20, u'AST': 0.0}, {u'REB': 3.0, u'PTS': 2, u'AST': 1.0}, {u'REB': 4.0, u'PTS': 5, u'AST': 1.0}, {u'REB': 9.0, u'PTS': 20, u'AST': 3.0}, {u'REB': 2.0, u'PTS': 6, u'AST': 0.0}, {u'REB': 1.0, u'PTS': 3, u'AST': 0.0}, {u'REB': 8.0, u'PTS': 11, u'AST': 1.0}, {u'REB': 5.0, u'PTS': 10, u'AST': 1.0}, {u'REB': 5.0, u'PTS': 7, u'AST': 0.0}, {u'REB': 15.0, u'PTS': 10, u'AST': 0.0}, {u'REB': 10.0, u'PTS': 6, u'AST': 0.0}, {u'REB': 2.0, u'PTS': 0, u'AST': 0.0}, {u'REB': 3.0, u'PTS': 6, u'AST': 1.0}, {u'REB': 2.0, u'PTS': 0, u'AST': 0.0}, {u'REB': 0.0, u'PTS': 0, u'AST': 0.0}, {u'REB': 2.0, u'PTS': 5, u'AST': 0.0}, {u'REB': 4.0, u'PTS': 12, u'AST': 0.0}, {u'REB': 7.0, u'PTS': 2, u'AST': 1.0}, {u'REB': 6.0, u'PTS': 7, u'AST': 0.0}, {u'REB': 1.0, u'PTS': 0, u'AST': 0.0}, {u'REB': 0.0, u'PTS': 3, u'AST': 0.0}, {u'REB': 3.0, u'PTS': 14, u'AST': 9.0}, {u'REB': 4.0, u'PTS': 19, u'AST': 7.0}, {u'REB': 1.0, u'PTS': 2, u'AST': 5.0}, {u'REB': 0.0, u'PTS': 10, u'AST': 5.0}, {u'REB': 5.0, u'PTS': 10, u'AST': 9.0}, {u'REB': 4.0, u'PTS': 4, u'AST': 4.0}, {u'REB': 1.0, u'PTS': 4, u'AST': 8.0}, {u'REB': 5.0, u'PTS': 2, u'AST': 6.0}, {u'REB': 6.0, u'PTS': 10, u'AST': 6.0}, {u'REB': 2.0, u'PTS': 9, u'AST': 6.0}, {u'REB': 6.0, u'PTS': 15, u'AST': 5.0}, {u'REB': 2.0, u'PTS': 10, u'AST': 6.0}, {u'REB': 2.0, u'PTS': 11, u'AST': 5.0}, {u'REB': 2.0, u'PTS': 13, u'AST': 5.0}, {u'REB': 2.0, u'PTS': 10, u'AST': 6.0}, {u'REB': 4.0, u'PTS': 18, u'AST': 6.0}, {u'REB': 1.0, u'PTS': 12, u'AST': 3.0}, {u'REB': 6.0, u'PTS': 15, u'AST': 7.0}, {u'REB': 1.0, u'PTS': 5, u'AST': 4.0}, {u'REB': 4.0, u'PTS': 2, u'AST': 5.0}, {u'REB': 11.0, u'PTS': 12, u'AST': 2.0}, {u'REB': 5.0, u'PTS': 10, u'AST': 2.0}, {u'REB': 7.0, u'PTS': 14, u'AST': 2.0}, {u'REB': 1.0, u'PTS': 2, u'AST': 3.0}, {u'REB': 1.0, u'PTS': 4, u'AST': 0.0}, {u'REB': 3.0, u'PTS': 16, u'AST': 3.0}, {u'REB': 3.0, u'PTS': 15, u'AST': 0.0}, {u'REB': 1.0, u'PTS': 9, u'AST': 1.0}, {u'REB': 6.0, u'PTS': 17, u'AST': 3.0}, {u'REB': 4.0, u'PTS': 18, u'AST': 2.0}, {u'REB': 16.0, u'PTS': 18, u'AST': 2.0}, {u'REB': 9.0, u'PTS': 16, u'AST': 0.0}, {u'REB': 12.0, u'PTS': 18, u'AST': 1.0}, {u'REB': 18.0, u'PTS': 15, u'AST': 1.0}, {u'REB': 17.0, u'PTS': 27, u'AST': 4.0}, {u'REB': 11.0, u'PTS': 21, u'AST': 3.0}, {u'REB': 16.0, u'PTS': 28, u'AST': 1.0}, {u'REB': 9.0, u'PTS': 22, u'AST': 2.0}, {u'REB': 20.0, u'PTS': 21, u'AST': 4.0}, {u'REB': 17.0, u'PTS': 23, u'AST': 1.0}, {u'REB': 5.0, u'PTS': 14, u'AST': 9.0}, {u'REB': 1.0, u'PTS': 12, u'AST': 4.0}, {u'REB': 6.0, u'PTS': 9, u'AST': 6.0}, {u'REB': 8.0, u'PTS': 13, u'AST': 9.0}, {u'REB': 3.0, u'PTS': 11, u'AST': 4.0}, {u'REB': 6.0, u'PTS': 9, u'AST': 9.0}, {u'REB': 4.0, u'PTS': 11, u'AST': 1.0}, {u'REB': 1.0, u'PTS': 22, u'AST': 5.0}, {u'REB': 1.0, u'PTS': 13, u'AST': 5.0}, {u'REB': 1.0, u'PTS': 8, u'AST': 4.0}, {u'REB': 0.0, u'PTS': 7, u'AST': 0.0}, {u'REB': 0.0, u'PTS': 4, u'AST': 0.0}, {u'REB': 0.0, u'PTS': 12, u'AST': 0.0}, {u'REB': 0.0, u'PTS': 10, u'AST': 0.0}, {u'REB': 0.0, u'PTS': 4, u'AST': 0.0}, {u'REB': 0.0, u'PTS': 2, u'AST': 0.0}, {u'REB': 0.0, u'PTS': 0, u'AST': 0.0}, {u'REB': 0.0, u'PTS': 4, u'AST': 0.0}, {u'REB': 0.0, u'PTS': 1, u'AST': 0.0}, {u'REB': 0.0, u'PTS': 2, u'AST': 0.0}, {u'REB': 3.0, u'PTS': 10, u'AST': 4.0}, {u'REB': 1.0, u'PTS': 7, u'AST': 4.0}, {u'REB': 4.0, u'PTS': 10, u'AST': 5.0}, {u'REB': 3.0, u'PTS': 11, u'AST': 3.0}, {u'REB': 2.0, u'PTS': 2, u'AST': 2.0}, {u'REB': 4.0, u'PTS': 6, u'AST': 3.0}, {u'REB': 1.0, u'PTS': 2, u'AST': 1.0}, {u'REB': 1.0, u'PTS': 4, u'AST': 2.0}, {u'REB': 2.0, u'PTS': 4, u'AST': 0.0}, {u'REB': 3.0, u'PTS': 9, u'AST': 2.0}, {u'REB': 0.0, u'PTS': 11, u'AST': 0.0}, {u'REB': 0.0, u'PTS': 16, u'AST': 0.0}, {u'REB': 0.0, u'PTS': 8, u'AST': 0.0}, {u'REB': 0.0, u'PTS': 3, u'AST': 0.0}, {u'REB': 0.0, u'PTS': 9, u'AST': 0.0}, {u'REB': 0.0, u'PTS': 9, u'AST': 0.0}, {u'REB': 0.0, u'PTS': 13, u'AST': 0.0}, {u'REB': 0.0, u'PTS': 8, u'AST': 0.0}, {u'REB': 0.0, u'PTS': 7, u'AST': 0.0}, {u'REB': 0.0, u'PTS': 4, u'AST': 0.0}, {u'REB': 0.0, u'PTS': 12, u'AST': 2.0}, {u'REB': 0.0, u'PTS': 12, u'AST': 0.0}, {u'REB': 0.0, u'PTS': 21, u'AST': 0.0}, {u'REB': 0.0, u'PTS': 19, u'AST': 0.0}, {u'REB': 0.0, u'PTS': 6, u'AST': 0.0}, {u'REB': 0.0, u'PTS': 21, u'AST': 0.0}, {u'REB': 0.0, u'PTS': 18, u'AST': 0.0}, {u'REB': 0.0, u'PTS': 4, u'AST': 0.0}, {u'REB': 0.0, u'PTS': 19, u'AST': 0.0}, {u'REB': 0.0, u'PTS': 22, u'AST': 0.0}, {u'REB': 3.0, u'PTS': 9, u'AST': 3.0}, {u'REB': 2.0, u'PTS': 10, u'AST': 5.0}, {u'REB': 8.0, u'PTS': 14, u'AST': 5.0}, {u'REB': 2.0, u'PTS': 20, u'AST': 3.0}, {u'REB': 6.0, u'PTS': 24, u'AST': 5.0}, {u'REB': 2.0, u'PTS': 13, u'AST': 7.0}, {u'REB': 6.0, u'PTS': 23, u'AST': 7.0}, {u'REB': 3.0, u'PTS': 13, u'AST': 3.0}, {u'REB': 4.0, u'PTS': 7, u'AST': 7.0}, {u'REB': 2.0, u'PTS': 2, u'AST': 5.0}, {u'REB': 0.0, u'PTS': 18, u'AST': 1.0}, {u'REB': 0.0, u'PTS': 19, u'AST': 0.0}, {u'REB': 0.0, u'PTS': 27, u'AST': 0.0}, {u'REB': 0.0, u'PTS': 25, u'AST': 0.0}, {u'REB': 0.0, u'PTS': 28, u'AST': 0.0}, {u'REB': 0.0, u'PTS': 0, u'AST': 0.0}, {u'REB': 0.0, u'PTS': 27, u'AST': 0.0}, {u'REB': 0.0, u'PTS': 18, u'AST': 0.0}, {u'REB': 0.0, u'PTS': 18, u'AST': 0.0}, {u'REB': 0.0, u'PTS': 18, u'AST': 0.0}, {u'REB': 9.0, u'PTS': 2, u'AST': 1.0}, {u'REB': 4.0, u'PTS': 8, u'AST': 0.0}, {u'REB': 11.0, u'PTS': 13, u'AST': 3.0}, {u'REB': 8.0, u'PTS': 5, u'AST': 1.0}, {u'REB': 6.0, u'PTS': 17, u'AST': 0.0}, {u'REB': 3.0, u'PTS': 5, u'AST': 0.0}, {u'REB': 1.0, u'PTS': 8, u'AST': 0.0}, {u'REB': 4.0, u'PTS': 5, u'AST': 0.0}, {u'REB': 8.0, u'PTS': 2, u'AST': 0.0}, {u'REB': 10.0, u'PTS': 8, u'AST': 0.0}, {u'REB': 2.0, u'PTS': 9, u'AST': 4.0}, {u'REB': 0.0, u'PTS': 6, u'AST': 4.0}, {u'REB': 0.0, u'PTS': 8, u'AST': 5.0}, {u'REB': 1.0, u'PTS': 10, u'AST': 2.0}, {u'REB': 3.0, u'PTS': 11, u'AST': 5.0}, {u'REB': 1.0, u'PTS': 6, u'AST': 1.0}, {u'REB': 3.0, u'PTS': 10, u'AST': 5.0}, {u'REB': 4.0, u'PTS': 9, u'AST': 4.0}, {u'REB': 0.0, u'PTS': 2, u'AST': 3.0}, {u'REB': 2.0, u'PTS': 9, u'AST': 3.0}, {u'REB': 0.0, u'PTS': 0, u'AST': 0.0}, {u'REB': 0.0, u'PTS': 10, u'AST': 0.0}, {u'REB': 0.0, u'PTS': 2, u'AST': 0.0}, {u'REB': 0.0, u'PTS': 0, u'AST': 0.0}, {u'REB': 0.0, u'PTS': 0, u'AST': 0.0}, {u'REB': 0.0, u'PTS': 0, u'AST': 0.0}, {u'REB': 0.0, u'PTS': 8, u'AST': 0.0}, {u'REB': 0.0, u'PTS': 7, u'AST': 0.0}, {u'REB': 0.0, u'PTS': 2, u'AST': 0.0}, {u'REB': 0.0, u'PTS': 0, u'AST': 0.0}, {u'REB': 0.0, u'PTS': 24, u'AST': 0.0}, {u'REB': 0.0, u'PTS': 10, u'AST': 0.0}, {u'REB': 0.0, u'PTS': 25, u'AST': 0.0}, {u'REB': 0.0, u'PTS': 27, u'AST': 0.0}, {u'REB': 0.0, u'PTS': 19, u'AST': 0.0}, {u'REB': 0.0, u'PTS': 20, u'AST': 0.0}, {u'REB': 0.0, u'PTS': 15, u'AST': 0.0}, {u'REB': 0.0, u'PTS': 14, u'AST': 0.0}, {u'REB': 0.0, u'PTS': 26, u'AST': 0.0}, {u'REB': 0.0, u'PTS': 13, u'AST': 0.0}, {u'REB': 8.0, u'PTS': 15, u'AST': 3.0}, {u'REB': 13.0, u'PTS': 17, u'AST': 2.0}, {u'REB': 6.0, u'PTS': 21, u'AST': 4.0}, {u'REB': 11.0, u'PTS': 13, u'AST': 3.0}, {u'REB': 18.0, u'PTS': 14, u'AST': 4.0}, {u'REB': 10.0, u'PTS': 13, u'AST': 3.0}, {u'REB': 16.0, u'PTS': 24, u'AST': 3.0}, {u'REB': 14.0, u'PTS': 21, u'AST': 2.0}, {u'REB': 1.0, u'PTS': 0, u'AST': 0.0}, {u'REB': 6.0, u'PTS': 9, u'AST': 4.0}, {u'REB': 0.0, u'PTS': 23, u'AST': 0.0}, {u'REB': 0.0, u'PTS': 15, u'AST': 0.0}, {u'REB': 0.0, u'PTS': 28, u'AST': 0.0}, {u'REB': 0.0, u'PTS': 30, u'AST': 0.0}, {u'REB': 0.0, u'PTS': 20, u'AST': 0.0}, {u'REB': 0.0, u'PTS': 25, u'AST': 5.0}, {u'REB': 0.0, u'PTS': 30, u'AST': 0.0}, {u'REB': 0.0, u'PTS': 25, u'AST': 0.0}, {u'REB': 0.0, u'PTS': 26, u'AST': 0.0}, {u'REB': 0.0, u'PTS': 19, u'AST': 0.0}, {u'REB': 1.0, u'PTS': 5, u'AST': 1.0}, {u'REB': 4.0, u'PTS': 1, u'AST': 0.0}, {u'REB': 1.0, u'PTS': 2, u'AST': 0.0}, {u'REB': 3.0, u'PTS': 1, u'AST': 0.0}, {u'REB': 1.0, u'PTS': 0, u'AST': 0.0}, {u'REB': 1.0, u'PTS': 4, u'AST': 1.0}, {u'REB': 2.0, u'PTS': 0, u'AST': 0.0}, {u'REB': 1.0, u'PTS': 0, u'AST': 1.0}, {u'REB': 2.0, u'PTS': 2, u'AST': 2.0}, {u'REB': 2.0, u'PTS': 2, u'AST': 0.0}, {u'REB': 0.0, u'PTS': 2, u'AST': 1.0}, {u'REB': 1.0, u'PTS': 3, u'AST': 2.0}, {u'REB': 4.0, u'PTS': 4, u'AST': 4.0}, {u'REB': 4.0, u'PTS': 10, u'AST': 3.0}, {u'REB': 4.0, u'PTS': 4, u'AST': 7.0}, {u'REB': 5.0, u'PTS': 10, u'AST': 3.0}, {u'REB': 2.0, u'PTS': 8, u'AST': 2.0}, {u'REB': 3.0, u'PTS': 4, u'AST': 2.0}, {u'REB': 4.0, u'PTS': 14, u'AST': 3.0}, {u'REB': 3.0, u'PTS': 7, u'AST': 2.0}, {u'REB': 1.0, u'PTS': 2, u'AST': 0.0}, {u'REB': 1.0, u'PTS': 2, u'AST': 2.0}, {u'REB': 6.0, u'PTS': 3, u'AST': 5.0}, {u'REB': 2.0, u'PTS': 15, u'AST': 1.0}, {u'REB': 6.0, u'PTS': 14, u'AST': 2.0}, {u'REB': 3.0, u'PTS': 13, u'AST': 2.0}, {u'REB': 0.0, u'PTS': 3, u'AST': 0.0}, {u'REB': 1.0, u'PTS': 4, u'AST': 0.0}, {u'REB': 0.0, u'PTS': 0, u'AST': 0.0}, {u'REB': 0.0, u'PTS': 0, u'AST': 0.0}, {u'REB': 3.0, u'PTS': 15, u'AST': 6.0}, {u'REB': 4.0, u'PTS': 12, u'AST': 11.0}, {u'REB': 0.0, u'PTS': 14, u'AST': 4.0}, {u'REB': 3.0, u'PTS': 5, u'AST': 5.0}, {u'REB': 1.0, u'PTS': 8, u'AST': 2.0}, {u'REB': 4.0, u'PTS': 8, u'AST': 5.0}, {u'REB': 1.0, u'PTS': 10, u'AST': 4.0}, {u'REB': 0.0, u'PTS': 10, u'AST': 2.0}, {u'REB': 2.0, u'PTS': 0, u'AST': 5.0}, {u'REB': 6.0, u'PTS': 6, u'AST': 6.0}, {u'REB': 7.0, u'PTS': 10, u'AST': 0.0}, {u'REB': 7.0, u'PTS': 6, u'AST': 0.0}, {u'REB': 3.0, u'PTS': 10, u'AST': 0.0}, {u'REB': 4.0, u'PTS': 4, u'AST': 1.0}, {u'REB': 5.0, u'PTS': 2, u'AST': 0.0}, {u'REB': 0.0, u'PTS': 4, u'AST': 2.0}, {u'REB': 4.0, u'PTS': 6, u'AST': 0.0}, {u'REB': 8.0, u'PTS': 7, u'AST': 0.0}, {u'REB': 6.0, u'PTS': 11, u'AST': 0.0}, {u'REB': 13.0, u'PTS': 12, u'AST': 2.0}, {u'REB': 9.0, u'PTS': 20, u'AST': 1.0}, {u'REB': 6.0, u'PTS': 11, u'AST': 2.0}, {u'REB': 1.0, u'PTS': 5, u'AST': 0.0}, {u'REB': 4.0, u'PTS': 9, u'AST': 1.0}, {u'REB': 3.0, u'PTS': 2, u'AST': 4.0}, {u'REB': 1.0, u'PTS': 1, u'AST': 2.0}, {u'REB': 2.0, u'PTS': 7, u'AST': 1.0}, {u'REB': 5.0, u'PTS': 15, u'AST': 0.0}, {u'REB': 1.0, u'PTS': 2, u'AST': 0.0}, {u'REB': 2.0, u'PTS': 5, u'AST': 1.0}, {u'REB': 10.0, u'PTS': 11, u'AST': 0.0}, {u'REB': 1.0, u'PTS': 0, u'AST': 0.0}, {u'REB': 5.0, u'PTS': 2, u'AST': 1.0}, {u'REB': 2.0, u'PTS': 0, u'AST': 0.0}, {u'REB': 7.0, u'PTS': 15, u'AST': 0.0}, {u'REB': 2.0, u'PTS': 5, u'AST': 2.0}, {u'REB': 8.0, u'PTS': 8, u'AST': 0.0}, {u'REB': 8.0, u'PTS': 10, u'AST': 1.0}, {u'REB': 16.0, u'PTS': 12, u'AST': 0.0}, {u'REB': 2.0, u'PTS': 2, u'AST': 0.0}, {u'REB': 0.0, u'PTS': 5, u'AST': 0.0}, {u'REB': 0.0, u'PTS': 4, u'AST': 0.0}, {u'REB': 0.0, u'PTS': 5, u'AST': 0.0}, {u'REB': 0.0, u'PTS': 9, u'AST': 3.0}, {u'REB': 0.0, u'PTS': 7, u'AST': 0.0}, {u'REB': 0.0, u'PTS': 7, u'AST': 0.0}, {u'REB': 0.0, u'PTS': 8, u'AST': 0.0}, {u'REB': 0.0, u'PTS': 9, u'AST': 0.0}, {u'REB': 0.0, u'PTS': 19, u'AST': 0.0}, {u'REB': 0.0, u'PTS': 7, u'AST': 0.0}, {u'REB': 1.0, u'PTS': 5, u'AST': 1.0}, {u'REB': 4.0, u'PTS': 5, u'AST': 1.0}, {u'REB': 3.0, u'PTS': 8, u'AST': 2.0}, {u'REB': 6.0, u'PTS': 8, u'AST': 0.0}, {u'REB': 1.0, u'PTS': 12, u'AST': 2.0}, {u'REB': 3.0, u'PTS': 12, u'AST': 0.0}, {u'REB': 3.0, u'PTS': 10, u'AST': 0.0}, {u'REB': 5.0, u'PTS': 22, u'AST': 1.0}, {u'REB': 4.0, u'PTS': 18, u'AST': 3.0}, {u'REB': 2.0, u'PTS': 11, u'AST': 3.0}, {u'REB': 0.0, u'PTS': 8, u'AST': 0.0}, {u'REB': 0.0, u'PTS': 14, u'AST': 0.0}, {u'REB': 0.0, u'PTS': 13, u'AST': 0.0}, {u'REB': 0.0, u'PTS': 11, u'AST': 0.0}, {u'REB': 0.0, u'PTS': 10, u'AST': 0.0}, {u'REB': 0.0, u'PTS': 10, u'AST': 0.0}, {u'REB': 0.0, u'PTS': 8, u'AST': 0.0}, {u'REB': 0.0, u'PTS': 5, u'AST': 0.0}, {u'REB': 0.0, u'PTS': 17, u'AST': 0.0}, {u'REB': 0.0, u'PTS': 9, u'AST': 0.0}, {u'REB': 2.0, u'PTS': 23, u'AST': 4.0}, {u'REB': 4.0, u'PTS': 25, u'AST': 3.0}, {u'REB': 7.0, u'PTS': 22, u'AST': 6.0}, {u'REB': 7.0, u'PTS': 13, u'AST': 4.0}, {u'REB': 3.0, u'PTS': 16, u'AST': 2.0}, {u'REB': 4.0, u'PTS': 17, u'AST': 5.0}, {u'REB': 6.0, u'PTS': 20, u'AST': 7.0}, {u'REB': 3.0, u'PTS': 7, u'AST': 2.0}, {u'REB': 8.0, u'PTS': 21, u'AST': 3.0}, {u'REB': 4.0, u'PTS': 19, u'AST': 6.0}, {u'REB': 0.0, u'PTS': 2, u'AST': 0.0}, {u'REB': 1.0, u'PTS': 0, u'AST': 1.0}, {u'REB': 9.0, u'PTS': 12, u'AST': 2.0}, {u'REB': 6.0, u'PTS': 1, u'AST': 0.0}, {u'REB': 3.0, u'PTS': 3, u'AST': 0.0}, {u'REB': 0.0, u'PTS': 2, u'AST': 1.0}, {u'REB': 2.0, u'PTS': 3, u'AST': 0.0}, {u'REB': 2.0, u'PTS': 0, u'AST': 1.0}, {u'REB': 5.0, u'PTS': 4, u'AST': 1.0}, {u'REB': 3.0, u'PTS': 1, u'AST': 1.0}, {u'REB': 0.0, u'PTS': 9, u'AST': 0.0}, {u'REB': 1.0, u'PTS': 8, u'AST': 0.0}, {u'REB': 5.0, u'PTS': 7, u'AST': 3.0}, {u'REB': 2.0, u'PTS': 7, u'AST': 0.0}, {u'REB': 0.0, u'PTS': 0, u'AST': 0.0}, {u'REB': 0.0, u'PTS': 7, u'AST': 3.0}, {u'REB': 0.0, u'PTS': 12, u'AST': 2.0}, {u'REB': 3.0, u'PTS': 9, u'AST': 2.0}, {u'REB': 0.0, u'PTS': 0, u'AST': 0.0}, {u'REB': 1.0, u'PTS': 0, u'AST': 0.0}, {u'REB': 3.0, u'PTS': 12, u'AST': 0.0}, {u'REB': 4.0, u'PTS': 10, u'AST': 2.0}, {u'REB': 14.0, u'PTS': 15, u'AST': 1.0}, {u'REB': 14.0, u'PTS': 34, u'AST': 3.0}, {u'REB': 10.0, u'PTS': 14, u'AST': 0.0}, {u'REB': 10.0, u'PTS': 14, u'AST': 2.0}, {u'REB': 5.0, u'PTS': 13, u'AST': 0.0}, {u'REB': 12.0, u'PTS': 16, u'AST': 1.0}, {u'REB': 8.0, u'PTS': 30, u'AST': 1.0}, {u'REB': 7.0, u'PTS': 13, u'AST': 2.0}, {u'REB': 4.0, u'PTS': 9, u'AST': 1.0}, {u'REB': 5.0, u'PTS': 12, u'AST': 1.0}, {u'REB': 6.0, u'PTS': 18, u'AST': 0.0}, {u'REB': 5.0, u'PTS': 26, u'AST': 1.0}, {u'REB': 1.0, u'PTS': 17, u'AST': 2.0}, {u'REB': 7.0, u'PTS': 17, u'AST': 4.0}, {u'REB': 8.0, u'PTS': 9, u'AST': 3.0}, {u'REB': 2.0, u'PTS': 13, u'AST': 3.0}, {u'REB': 4.0, u'PTS': 25, u'AST': 6.0}, {u'REB': 5.0, u'PTS': 13, u'AST': 4.0}, {u'REB': 3.0, u'PTS': 7, u'AST': 3.0}, {u'REB': 3.0, u'PTS': 5, u'AST': 7.0}, {u'REB': 2.0, u'PTS': 23, u'AST': 6.0}, {u'REB': 2.0, u'PTS': 2, u'AST': 4.0}, {u'REB': 3.0, u'PTS': 6, u'AST': 3.0}, {u'REB': 4.0, u'PTS': 20, u'AST': 5.0}, {u'REB': 1.0, u'PTS': 12, u'AST': 4.0}, {u'REB': 3.0, u'PTS': 8, u'AST': 4.0}, {u'REB': 0.0, u'PTS': 7, u'AST': 3.0}, {u'REB': 3.0, u'PTS': 9, u'AST': 2.0}, {u'REB': 0.0, u'PTS': 4, u'AST': 5.0}, {u'REB': 0.0, u'PTS': 6, u'AST': 0.0}, {u'REB': 0.0, u'PTS': 5, u'AST': 0.0}, {u'REB': 0.0, u'PTS': 19, u'AST': 0.0}, {u'REB': 0.0, u'PTS': 7, u'AST': 0.0}, {u'REB': 0.0, u'PTS': 1, u'AST': 0.0}, {u'REB': 0.0, u'PTS': 7, u'AST': 0.0}, {u'REB': 0.0, u'PTS': 0, u'AST': 0.0}, {u'REB': 0.0, u'PTS': 6, u'AST': 7.0}, {u'REB': 0.0, u'PTS': 11, u'AST': 9.0}, {u'REB': 0.0, u'PTS': 3, u'AST': 0.0}, {u'REB': 0.0, u'PTS': 6, u'AST': 0.0}, {u'REB': 0.0, u'PTS': 8, u'AST': 0.0}, {u'REB': 0.0, u'PTS': 10, u'AST': 0.0}, {u'REB': 0.0, u'PTS': 4, u'AST': 0.0}, {u'REB': 0.0, u'PTS': 24, u'AST': 0.0}, {u'REB': 0.0, u'PTS': 12, u'AST': 0.0}, {u'REB': 0.0, u'PTS': 2, u'AST': 0.0}, {u'REB': 0.0, u'PTS': 9, u'AST': 0.0}, {u'REB': 0.0, u'PTS': 8, u'AST': 0.0}, {u'REB': 1.0, u'PTS': 13, u'AST': 3.0}, {u'REB': 1.0, u'PTS': 6, u'AST': 0.0}, {u'REB': 2.0, u'PTS': 9, u'AST': 0.0}, {u'REB': 0.0, u'PTS': 0, u'AST': 1.0}, {u'REB': 2.0, u'PTS': 5, u'AST': 1.0}, {u'REB': 1.0, u'PTS': 6, u'AST': 3.0}, {u'REB': 0.0, u'PTS': 2, u'AST': 0.0}, {u'REB': 0.0, u'PTS': 0, u'AST': 0.0}, {u'REB': 1.0, u'PTS': 2, u'AST': 1.0}, {u'REB': 0.0, u'PTS': 5, u'AST': 2.0}, {u'REB': 4.0, u'PTS': 12, u'AST': 2.0}, {u'REB': 8.0, u'PTS': 20, u'AST': 2.0}, {u'REB': 4.0, u'PTS': 7, u'AST': 1.0}, {u'REB': 8.0, u'PTS': 17, u'AST': 2.0}, {u'REB': 11.0, u'PTS': 20, u'AST': 2.0}, {u'REB': 3.0, u'PTS': 21, u'AST': 1.0}, {u'REB': 5.0, u'PTS': 6, u'AST': 4.0}, {u'REB': 4.0, u'PTS': 18, u'AST': 5.0}, {u'REB': 9.0, u'PTS': 12, u'AST': 2.0}, {u'REB': 15.0, u'PTS': 20, u'AST': 2.0}, {u'REB': 7.0, u'PTS': 17, u'AST': 1.0}, {u'REB': 4.0, u'PTS': 5, u'AST': 1.0}, {u'REB': 14.0, u'PTS': 16, u'AST': 5.0}, {u'REB': 15.0, u'PTS': 19, u'AST': 3.0}, {u'REB': 12.0, u'PTS': 17, u'AST': 6.0}, {u'REB': 7.0, u'PTS': 24, u'AST': 7.0}, {u'REB': 15.0, u'PTS': 39, u'AST': 5.0}, {u'REB': 5.0, u'PTS': 0, u'AST': 2.0}, {u'REB': 11.0, u'PTS': 17, u'AST': 6.0}, {u'REB': 6.0, u'PTS': 15, u'AST': 1.0}, {u'REB': 0.0, u'PTS': 0, u'AST': 1.0}, {u'REB': 0.0, u'PTS': 0, u'AST': 0.0}, {u'REB': 1.0, u'PTS': 0, u'AST': 0.0}, {u'REB': 3.0, u'PTS': 25, u'AST': 6.0}, {u'REB': 0.0, u'PTS': 11, u'AST': 1.0}, {u'REB': 2.0, u'PTS': 13, u'AST': 4.0}, {u'REB': 0.0, u'PTS': 3, u'AST': 1.0}, {u'REB': 3.0, u'PTS': 18, u'AST': 4.0}, {u'REB': 4.0, u'PTS': 11, u'AST': 3.0}, {u'REB': 0.0, u'PTS': 4, u'AST': 1.0}, {u'REB': 0.0, u'PTS': 6, u'AST': 6.0}, {u'REB': 0.0, u'PTS': 13, u'AST': 0.0}, {u'REB': 0.0, u'PTS': 8, u'AST': 0.0}, {u'REB': 0.0, u'PTS': 5, u'AST': 0.0}, {u'REB': 0.0, u'PTS': 0, u'AST': 0.0}, {u'REB': 0.0, u'PTS': 1, u'AST': 0.0}, {u'REB': 0.0, u'PTS': 7, u'AST': 0.0}, {u'REB': 0.0, u'PTS': 0, u'AST': 0.0}, {u'REB': 0.0, u'PTS': 4, u'AST': 0.0}, {u'REB': 0.0, u'PTS': 6, u'AST': 0.0}, {u'REB': 4.0, u'PTS': 9, u'AST': 6.0}, {u'REB': 5.0, u'PTS': 6, u'AST': 6.0}, {u'REB': 5.0, u'PTS': 9, u'AST': 10.0}, {u'REB': 3.0, u'PTS': 10, u'AST': 7.0}, {u'REB': 4.0, u'PTS': 9, u'AST': 7.0}, {u'REB': 6.0, u'PTS': 11, u'AST': 8.0}, {u'REB': 4.0, u'PTS': 20, u'AST': 15.0}, {u'REB': 2.0, u'PTS': 12, u'AST': 3.0}, {u'REB': 8.0, u'PTS': 15, u'AST': 13.0}, {u'REB': 1.0, u'PTS': 4, u'AST': 7.0}, {u'REB': 4.0, u'PTS': 11, u'AST': 2.0}, {u'REB': 4.0, u'PTS': 6, u'AST': 1.0}, {u'REB': 4.0, u'PTS': 9, u'AST': 5.0}, {u'REB': 9.0, u'PTS': 12, u'AST': 9.0}, {u'REB': 5.0, u'PTS': 20, u'AST': 6.0}, {u'REB': 11.0, u'PTS': 15, u'AST': 7.0}, {u'REB': 8.0, u'PTS': 23, u'AST': 5.0}, {u'REB': 4.0, u'PTS': 7, u'AST': 8.0}, {u'REB': 8.0, u'PTS': 12, u'AST': 8.0}, {u'REB': 1.0, u'PTS': 5, u'AST': 6.0}, {u'REB': 3.0, u'PTS': 2, u'AST': 0.0}, {u'REB': 2.0, u'PTS': 5, u'AST': 0.0}, {u'REB': 5.0, u'PTS': 22, u'AST': 0.0}, {u'REB': 4.0, u'PTS': 11, u'AST': 3.0}, {u'REB': 6.0, u'PTS': 12, u'AST': 1.0}, {u'REB': 5.0, u'PTS': 18, u'AST': 0.0}, {u'REB': 5.0, u'PTS': 17, u'AST': 1.0}, {u'REB': 3.0, u'PTS': 16, u'AST': 3.0}, {u'REB': 4.0, u'PTS': 4, u'AST': 1.0}, {u'REB': 3.0, u'PTS': 8, u'AST': 2.0}, {u'REB': 12.0, u'PTS': 14, u'AST': 2.0}, {u'REB': 8.0, u'PTS': 10, u'AST': 1.0}, {u'REB': 8.0, u'PTS': 21, u'AST': 1.0}, {u'REB': 4.0, u'PTS': 17, u'AST': 3.0}, {u'REB': 10.0, u'PTS': 18, u'AST': 3.0}, {u'REB': 6.0, u'PTS': 23, u'AST': 0.0}, {u'REB': 5.0, u'PTS': 29, u'AST': 1.0}, {u'REB': 9.0, u'PTS': 25, u'AST': 5.0}, {u'REB': 6.0, u'PTS': 23, u'AST': 1.0}, {u'REB': 7.0, u'PTS': 8, u'AST': 1.0}, {u'REB': 3.0, u'PTS': 11, u'AST': 2.0}, {u'REB': 2.0, u'PTS': 24, u'AST': 2.0}, {u'REB': 2.0, u'PTS': 20, u'AST': 1.0}, {u'REB': 3.0, u'PTS': 23, u'AST': 2.0}, {u'REB': 2.0, u'PTS': 22, u'AST': 0.0}, {u'REB': 2.0, u'PTS': 15, u'AST': 3.0}, {u'REB': 1.0, u'PTS': 18, u'AST': 1.0}, {u'REB': 2.0, u'PTS': 11, u'AST': 2.0}, {u'REB': 1.0, u'PTS': 13, u'AST': 3.0}, {u'REB': 0.0, u'PTS': 4, u'AST': 1.0}, {u'REB': 0.0, u'PTS': 0, u'AST': 0.0}, {u'REB': 3.0, u'PTS': 4, u'AST': 1.0}, {u'REB': 0.0, u'PTS': 0, u'AST': 0.0}, {u'REB': 2.0, u'PTS': 3, u'AST': 1.0}, {u'REB': 1.0, u'PTS': 3, u'AST': 2.0}, {u'REB': 1.0, u'PTS': 0, u'AST': 0.0}, {u'REB': 1.0, u'PTS': 2, u'AST': 0.0}, {u'REB': 2.0, u'PTS': 2, u'AST': 0.0}, {u'REB': 6.0, u'PTS': 2, u'AST': 0.0}, {u'REB': 0.0, u'PTS': 0, u'AST': 0.0}, {u'REB': 13.0, u'PTS': 35, u'AST': 1.0}, {u'REB': 21.0, u'PTS': 31, u'AST': 1.0}, {u'REB': 15.0, u'PTS': 29, u'AST': 1.0}, {u'REB': 19.0, u'PTS': 29, u'AST': 1.0}, {u'REB': 16.0, u'PTS': 29, u'AST': 3.0}, {u'REB': 17.0, u'PTS': 18, u'AST': 2.0}, {u'REB': 13.0, u'PTS': 12, u'AST': 2.0}, {u'REB': 11.0, u'PTS': 21, u'AST': 1.0}, {u'REB': 14.0, u'PTS': 22, u'AST': 1.0}, {u'REB': 18.0, u'PTS': 12, u'AST': 2.0}, {u'REB': 0.0, u'PTS': 2, u'AST': 0.0}, {u'REB': 4.0, u'PTS': 0, u'AST': 0.0}, {u'REB': 3.0, u'PTS': 2, u'AST': 0.0}, {u'REB': 2.0, u'PTS': 3, u'AST': 0.0}, {u'REB': 1.0, u'PTS': 0, u'AST': 0.0}, {u'REB': 0.0, u'PTS': 0, u'AST': 0.0}, {u'REB': 0.0, u'PTS': 0, u'AST': 0.0}, {u'REB': 1.0, u'PTS': 0, u'AST': 0.0}, {u'REB': 1.0, u'PTS': 4, u'AST': 0.0}, {u'REB': 0.0, u'PTS': 2, u'AST': 0.0}, {u'REB': 0.0, u'PTS': 0, u'AST': 0.0}, {u'REB': 6.0, u'PTS': 11, u'AST': 1.0}, {u'REB': 0.0, u'PTS': 0, u'AST': 0.0}, {u'REB': 3.0, u'PTS': 12, u'AST': 0.0}, {u'REB': 0.0, u'PTS': 1, u'AST': 0.0}, {u'REB': 2.0, u'PTS': 1, u'AST': 0.0}, {u'REB': 3.0, u'PTS': 11, u'AST': 0.0}, {u'REB': 6.0, u'PTS': 12, u'AST': 0.0}, {u'REB': 2.0, u'PTS': 0, u'AST': 0.0}, {u'REB': 7.0, u'PTS': 0, u'AST': 1.0}, {u'REB': 6.0, u'PTS': 6, u'AST': 0.0}, {u'REB': 1.0, u'PTS': 0, u'AST': 0.0}, {u'REB': 0.0, u'PTS': 0, u'AST': 1.0}, {u'REB': 9.0, u'PTS': 18, u'AST': 0.0}, {u'REB': 0.0, u'PTS': 2, u'AST': 0.0}, {u'REB': 9.0, u'PTS': 9, u'AST': 0.0}, {u'REB': 2.0, u'PTS': 4, u'AST': 1.0}, {u'REB': 8.0, u'PTS': 13, u'AST': 0.0}, {u'REB': 9.0, u'PTS': 15, u'AST': 0.0}, {u'REB': 7.0, u'PTS': 7, u'AST': 0.0}, {u'REB': 0.0, u'PTS': 19, u'AST': 0.0}, {u'REB': 0.0, u'PTS': 20, u'AST': 0.0}, {u'REB': 0.0, u'PTS': 12, u'AST': 0.0}, {u'REB': 0.0, u'PTS': 22, u'AST': 0.0}, {u'REB': 0.0, u'PTS': 10, u'AST': 0.0}, {u'REB': 0.0, u'PTS': 21, u'AST': 0.0}, {u'REB': 0.0, u'PTS': 0, u'AST': 0.0}, {u'REB': 0.0, u'PTS': 9, u'AST': 0.0}, {u'REB': 0.0, u'PTS': 16, u'AST': 0.0}, {u'REB': 0.0, u'PTS': 12, u'AST': 0.0}, {u'REB': 11.0, u'PTS': 10, u'AST': 1.0}, {u'REB': 3.0, u'PTS': 2, u'AST': 0.0}, {u'REB': 7.0, u'PTS': 14, u'AST': 1.0}, {u'REB': 5.0, u'PTS': 8, u'AST': 1.0}, {u'REB': 4.0, u'PTS': 4, u'AST': 0.0}, {u'REB': 8.0, u'PTS': 16, u'AST': 2.0}, {u'REB': 7.0, u'PTS': 9, u'AST': 1.0}, {u'REB': 11.0, u'PTS': 14, u'AST': 4.0}, {u'REB': 9.0, u'PTS': 13, u'AST': 4.0}, {u'REB': 10.0, u'PTS': 22, u'AST': 1.0}, {u'REB': 7.0, u'PTS': 5, u'AST': 1.0}, {u'REB': 4.0, u'PTS': 9, u'AST': 1.0}, {u'REB': 6.0, u'PTS': 10, u'AST': 0.0}, {u'REB': 1.0, u'PTS': 2, u'AST': 0.0}, {u'REB': 10.0, u'PTS': 8, u'AST': 0.0}, {u'REB': 2.0, u'PTS': 2, u'AST': 0.0}, {u'REB': 4.0, u'PTS': 4, u'AST': 1.0}, {u'REB': 4.0, u'PTS': 8, u'AST': 1.0}, {u'REB': 3.0, u'PTS': 8, u'AST': 0.0}, {u'REB': 8.0, u'PTS': 8, u'AST': 2.0}, {u'REB': 9.0, u'PTS': 19, u'AST': 5.0}, {u'REB': 8.0, u'PTS': 9, u'AST': 9.0}, {u'REB': 2.0, u'PTS': 5, u'AST': 5.0}, {u'REB': 5.0, u'PTS': 8, u'AST': 3.0}, {u'REB': 3.0, u'PTS': 4, u'AST': 5.0}, {u'REB': 5.0, u'PTS': 11, u'AST': 6.0}, {u'REB': 3.0, u'PTS': 13, u'AST': 10.0}, {u'REB': 8.0, u'PTS': 13, u'AST': 6.0}, {u'REB': 8.0, u'PTS': 11, u'AST': 4.0}, {u'REB': 9.0, u'PTS': 10, u'AST': 11.0}, {u'REB': 3.0, u'PTS': 36, u'AST': 1.0}, {u'REB': 3.0, u'PTS': 20, u'AST': 2.0}, {u'REB': 6.0, u'PTS': 19, u'AST': 1.0}, {u'REB': 6.0, u'PTS': 7, u'AST': 5.0}, {u'REB': 3.0, u'PTS': 24, u'AST': 1.0}, {u'REB': 3.0, u'PTS': 21, u'AST': 3.0}, {u'REB': 8.0, u'PTS': 20, u'AST': 4.0}, {u'REB': 3.0, u'PTS': 21, u'AST': 5.0}, {u'REB': 4.0, u'PTS': 14, u'AST': 2.0}, {u'REB': 6.0, u'PTS': 26, u'AST': 2.0}, {u'REB': 0.0, u'PTS': 10, u'AST': 4.0}, {u'REB': 0.0, u'PTS': 13, u'AST': 0.0}, {u'REB': 0.0, u'PTS': 7, u'AST': 0.0}, {u'REB': 0.0, u'PTS': 2, u'AST': 0.0}, {u'REB': 0.0, u'PTS': 0, u'AST': 0.0}, {u'REB': 0.0, u'PTS': 6, u'AST': 0.0}, {u'REB': 0.0, u'PTS': 10, u'AST': 5.0}, {u'REB': 0.0, u'PTS': 12, u'AST': 0.0}, {u'REB': 0.0, u'PTS': 8, u'AST': 9.0}, {u'REB': 0.0, u'PTS': 8, u'AST': 0.0}, {u'REB': 5.0, u'PTS': 10, u'AST': 1.0}, {u'REB': 6.0, u'PTS': 9, u'AST': 1.0}, {u'REB': 16.0, u'PTS': 17, u'AST': 2.0}, {u'REB': 3.0, u'PTS': 4, u'AST': 1.0}, {u'REB': 14.0, u'PTS': 12, u'AST': 2.0}, {u'REB': 10.0, u'PTS': 22, u'AST': 3.0}, {u'REB': 15.0, u'PTS': 13, u'AST': 2.0}, {u'REB': 6.0, u'PTS': 2, u'AST': 1.0}, {u'REB': 8.0, u'PTS': 4, u'AST': 2.0}, {u'REB': 3.0, u'PTS': 10, u'AST': 0.0}, {u'REB': 4.0, u'PTS': 7, u'AST': 3.0}, {u'REB': 6.0, u'PTS': 9, u'AST': 3.0}, {u'REB': 8.0, u'PTS': 19, u'AST': 1.0}, {u'REB': 4.0, u'PTS': 7, u'AST': 2.0}, {u'REB': 5.0, u'PTS': 7, u'AST': 4.0}, {u'REB': 0.0, u'PTS': 2, u'AST': 1.0}, {u'REB': 4.0, u'PTS': 2, u'AST': 2.0}, {u'REB': 1.0, u'PTS': 3, u'AST': 0.0}, {u'REB': 5.0, u'PTS': 9, u'AST': 1.0}, {u'REB': 1.0, u'PTS': 8, u'AST': 1.0}, {u'REB': 5.0, u'PTS': 21, u'AST': 8.0}, {u'REB': 6.0, u'PTS': 27, u'AST': 4.0}, {u'REB': 2.0, u'PTS': 9, u'AST': 2.0}, {u'REB': 1.0, u'PTS': 7, u'AST': 1.0}, {u'REB': 3.0, u'PTS': 16, u'AST': 0.0}, {u'REB': 7.0, u'PTS': 22, u'AST': 10.0}, {u'REB': 3.0, u'PTS': 20, u'AST': 3.0}, {u'REB': 5.0, u'PTS': 18, u'AST': 9.0}, {u'REB': 5.0, u'PTS': 22, u'AST': 0.0}, {u'REB': 1.0, u'PTS': 27, u'AST': 0.0}, {u'REB': 2.0, u'PTS': 18, u'AST': 0.0}, {u'REB': 3.0, u'PTS': 18, u'AST': 4.0}, {u'REB': 9.0, u'PTS': 27, u'AST': 4.0}, {u'REB': 4.0, u'PTS': 4, u'AST': 1.0}, {u'REB': 2.0, u'PTS': 12, u'AST': 3.0}, {u'REB': 4.0, u'PTS': 24, u'AST': 2.0}, {u'REB': 4.0, u'PTS': 23, u'AST': 2.0}, {u'REB': 6.0, u'PTS': 19, u'AST': 2.0}, {u'REB': 4.0, u'PTS': 12, u'AST': 3.0}, {u'REB': 2.0, u'PTS': 14, u'AST': 2.0}, {u'REB': 4.0, u'PTS': 14, u'AST': 0.0}, {u'REB': 3.0, u'PTS': 9, u'AST': 4.0}, {u'REB': 6.0, u'PTS': 7, u'AST': 0.0}, {u'REB': 0.0, u'PTS': 9, u'AST': 0.0}, {u'REB': 2.0, u'PTS': 7, u'AST': 0.0}, {u'REB': 6.0, u'PTS': 10, u'AST': 0.0}, {u'REB': 5.0, u'PTS': 10, u'AST': 2.0}, {u'REB': 4.0, u'PTS': 5, u'AST': 0.0}, {u'REB': 7.0, u'PTS': 16, u'AST': 0.0}, {u'REB': 4.0, u'PTS': 16, u'AST': 1.0}, {u'REB': 13.0, u'PTS': 27, u'AST': 2.0}, {u'REB': 11.0, u'PTS': 28, u'AST': 2.0}, {u'REB': 5.0, u'PTS': 18, u'AST': 5.0}, {u'REB': 13.0, u'PTS': 13, u'AST': 1.0}, {u'REB': 14.0, u'PTS': 20, u'AST': 1.0}, {u'REB': 15.0, u'PTS': 23, u'AST': 0.0}, {u'REB': 15.0, u'PTS': 20, u'AST': 4.0}, {u'REB': 11.0, u'PTS': 20, u'AST': 1.0}, {u'REB': 6.0, u'PTS': 25, u'AST': 3.0}, {u'REB': 12.0, u'PTS': 21, u'AST': 1.0}, {u'REB': 3.0, u'PTS': 23, u'AST': 2.0}, {u'REB': 3.0, u'PTS': 9, u'AST': 3.0}, {u'REB': 4.0, u'PTS': 9, u'AST': 4.0}, {u'REB': 2.0, u'PTS': 15, u'AST': 5.0}, {u'REB': 4.0, u'PTS': 22, u'AST': 5.0}, {u'REB': 1.0, u'PTS': 17, u'AST': 5.0}, {u'REB': 2.0, u'PTS': 17, u'AST': 3.0}, {u'REB': 1.0, u'PTS': 8, u'AST': 2.0}, {u'REB': 3.0, u'PTS': 18, u'AST': 3.0}, {u'REB': 5.0, u'PTS': 28, u'AST': 4.0}, {u'REB': 2.0, u'PTS': 12, u'AST': 1.0}, {u'REB': 0.0, u'PTS': 8, u'AST': 0.0}, {u'REB': 3.0, u'PTS': 3, u'AST': 1.0}, {u'REB': 1.0, u'PTS': 5, u'AST': 1.0}, {u'REB': 2.0, u'PTS': 9, u'AST': 1.0}, {u'REB': 1.0, u'PTS': 9, u'AST': 4.0}, {u'REB': 0.0, u'PTS': 0, u'AST': 1.0}, {u'REB': 1.0, u'PTS': 0, u'AST': 0.0}, {u'REB': 0.0, u'PTS': 9, u'AST': 1.0}, {u'REB': 3.0, u'PTS': 6, u'AST': 3.0}, {u'REB': 5.0, u'PTS': 13, u'AST': 2.0}, {u'REB': 1.0, u'PTS': 4, u'AST': 1.0}, {u'REB': 3.0, u'PTS': 13, u'AST': 3.0}, {u'REB': 4.0, u'PTS': 14, u'AST': 1.0}, {u'REB': 6.0, u'PTS': 13, u'AST': 6.0}, {u'REB': 2.0, u'PTS': 6, u'AST': 0.0}, {u'REB': 3.0, u'PTS': 8, u'AST': 0.0}, {u'REB': 3.0, u'PTS': 15, u'AST': 0.0}, {u'REB': 3.0, u'PTS': 4, u'AST': 0.0}, {u'REB': 7.0, u'PTS': 17, u'AST': 2.0}, {u'REB': 3.0, u'PTS': 17, u'AST': 2.0}, {u'REB': 4.0, u'PTS': 12, u'AST': 3.0}, {u'REB': 6.0, u'PTS': 21, u'AST': 1.0}, {u'REB': 5.0, u'PTS': 15, u'AST': 0.0}, {u'REB': 6.0, u'PTS': 13, u'AST': 0.0}, {u'REB': 3.0, u'PTS': 24, u'AST': 4.0}, {u'REB': 6.0, u'PTS': 17, u'AST': 5.0}, {u'REB': 3.0, u'PTS': 15, u'AST': 5.0}, {u'REB': 6.0, u'PTS': 17, u'AST': 3.0}, {u'REB': 5.0, u'PTS': 27, u'AST': 5.0}, {u'REB': 0.0, u'PTS': 11, u'AST': 3.0}, {u'REB': 0.0, u'PTS': 7, u'AST': 4.0}, {u'REB': 0.0, u'PTS': 20, u'AST': 3.0}, {u'REB': 0.0, u'PTS': 11, u'AST': 2.0}, {u'REB': 0.0, u'PTS': 16, u'AST': 1.0}, {u'REB': 0.0, u'PTS': 2, u'AST': 0.0}, {u'REB': 0.0, u'PTS': 11, u'AST': 0.0}, {u'REB': 0.0, u'PTS': 17, u'AST': 2.0}, {u'REB': 0.0, u'PTS': 9, u'AST': 3.0}, {u'REB': 0.0, u'PTS': 17, u'AST': 2.0}, {u'REB': 0.0, u'PTS': 2, u'AST': 0.0}, {u'REB': 0.0, u'PTS': 6, u'AST': 0.0}, {u'REB': 0.0, u'PTS': 8, u'AST': 0.0}, {u'REB': 0.0, u'PTS': 14, u'AST': 0.0}, {u'REB': 0.0, u'PTS': 2, u'AST': 0.0}, {u'REB': 0.0, u'PTS': 8, u'AST': 0.0}, {u'REB': 0.0, u'PTS': 13, u'AST': 0.0}, {u'REB': 0.0, u'PTS': 8, u'AST': 0.0}, {u'REB': 0.0, u'PTS': 7, u'AST': 0.0}, {u'REB': 0.0, u'PTS': 7, u'AST': 0.0}, {u'REB': 0.0, u'PTS': 5, u'AST': 0.0}, {u'REB': 0.0, u'PTS': 5, u'AST': 0.0}, {u'REB': 0.0, u'PTS': 0, u'AST': 0.0}, {u'REB': 0.0, u'PTS': 7, u'AST': 0.0}, {u'REB': 0.0, u'PTS': 2, u'AST': 0.0}, {u'REB': 0.0, u'PTS': 0, u'AST': 2.0}, {u'REB': 0.0, u'PTS': 9, u'AST': 0.0}, {u'REB': 0.0, u'PTS': 0, u'AST': 0.0}, {u'REB': 0.0, u'PTS': 1, u'AST': 0.0}, {u'REB': 0.0, u'PTS': 15, u'AST': 0.0}, {u'REB': 0.0, u'PTS': 16, u'AST': 0.0}, {u'REB': 0.0, u'PTS': 21, u'AST': 0.0}, {u'REB': 0.0, u'PTS': 37, u'AST': 5.0}, {u'REB': 0.0, u'PTS': 25, u'AST': 5.0}, {u'REB': 0.0, u'PTS': 17, u'AST': 5.0}, {u'REB': 0.0, u'PTS': 27, u'AST': 0.0}, {u'REB': 0.0, u'PTS': 45, u'AST': 0.0}, {u'REB': 0.0, u'PTS': 27, u'AST': 0.0}, {u'REB': 0.0, u'PTS': 16, u'AST': 7.0}, {u'REB': 0.0, u'PTS': 34, u'AST': 0.0}, {u'REB': 0.0, u'PTS': 6, u'AST': 0.0}, {u'REB': 0.0, u'PTS': 0, u'AST': 0.0}, {u'REB': 0.0, u'PTS': 0, u'AST': 0.0}, {u'REB': 0.0, u'PTS': 0, u'AST': 0.0}, {u'REB': 0.0, u'PTS': 2, u'AST': 0.0}, {u'REB': 0.0, u'PTS': 0, u'AST': 0.0}, {u'REB': 0.0, u'PTS': 0, u'AST': 0.0}, {u'REB': 0.0, u'PTS': 7, u'AST': 0.0}, {u'REB': 0.0, u'PTS': 8, u'AST': 1.0}, {u'REB': 0.0, u'PTS': 0, u'AST': 0.0}, {u'REB': 1.0, u'PTS': 0, u'AST': 1.0}, {u'REB': 5.0, u'PTS': 12, u'AST': 4.0}, {u'REB': 4.0, u'PTS': 2, u'AST': 6.0}, {u'REB': 3.0, u'PTS': 14, u'AST': 9.0}, {u'REB': 1.0, u'PTS': 10, u'AST': 12.0}, {u'REB': 7.0, u'PTS': 10, u'AST': 8.0}, {u'REB': 5.0, u'PTS': 17, u'AST': 10.0}, {u'REB': 5.0, u'PTS': 19, u'AST': 12.0}, {u'REB': 1.0, u'PTS': 0, u'AST': 3.0}, {u'REB': 3.0, u'PTS': 6, u'AST': 2.0}, {u'REB': 0.0, u'PTS': 3, u'AST': 6.0}, {u'REB': 2.0, u'PTS': 0, u'AST': 2.0}, {u'REB': 0.0, u'PTS': 11, u'AST': 4.0}, {u'REB': 2.0, u'PTS': 2, u'AST': 3.0}, {u'REB': 0.0, u'PTS': 2, u'AST': 5.0}, {u'REB': 1.0, u'PTS': 5, u'AST': 1.0}, {u'REB': 0.0, u'PTS': 0, u'AST': 1.0}, {u'REB': 3.0, u'PTS': 5, u'AST': 4.0}, {u'REB': 3.0, u'PTS': 8, u'AST': 4.0}, {u'REB': 5.0, u'PTS': 8, u'AST': 4.0}, {u'REB': 0.0, u'PTS': 21, u'AST': 0.0}, {u'REB': 0.0, u'PTS': 6, u'AST': 0.0}, {u'REB': 0.0, u'PTS': 18, u'AST': 0.0}, {u'REB': 0.0, u'PTS': 10, u'AST': 0.0}, {u'REB': 0.0, u'PTS': 7, u'AST': 0.0}, {u'REB': 0.0, u'PTS': 12, u'AST': 0.0}, {u'REB': 0.0, u'PTS': 0, u'AST': 0.0}, {u'REB': 0.0, u'PTS': 0, u'AST': 0.0}, {u'REB': 0.0, u'PTS': 13, u'AST': 0.0}, {u'REB': 0.0, u'PTS': 9, u'AST': 0.0}, {u'REB': 0.0, u'PTS': 12, u'AST': 0.0}, {u'REB': 0.0, u'PTS': 19, u'AST': 0.0}, {u'REB': 0.0, u'PTS': 12, u'AST': 0.0}, {u'REB': 0.0, u'PTS': 19, u'AST': 0.0}, {u'REB': 0.0, u'PTS': 6, u'AST': 0.0}, {u'REB': 0.0, u'PTS': 17, u'AST': 2.0}, {u'REB': 0.0, u'PTS': 15, u'AST': 0.0}, {u'REB': 0.0, u'PTS': 13, u'AST': 0.0}, {u'REB': 0.0, u'PTS': 4, u'AST': 0.0}, {u'REB': 0.0, u'PTS': 16, u'AST': 0.0}, {u'REB': 5.0, u'PTS': 0, u'AST': 0.0}, {u'REB': 9.0, u'PTS': 6, u'AST': 0.0}, {u'REB': 3.0, u'PTS': 6, u'AST': 0.0}, {u'REB': 4.0, u'PTS': 12, u'AST': 0.0}, {u'REB': 6.0, u'PTS': 6, u'AST': 0.0}, {u'REB': 7.0, u'PTS': 19, u'AST': 0.0}, {u'REB': 6.0, u'PTS': 6, u'AST': 0.0}, {u'REB': 11.0, u'PTS': 3, u'AST': 3.0}, {u'REB': 3.0, u'PTS': 4, u'AST': 1.0}, {u'REB': 8.0, u'PTS': 10, u'AST': 0.0}, {u'REB': 3.0, u'PTS': 14, u'AST': 2.0}, {u'REB': 14.0, u'PTS': 19, u'AST': 2.0}, {u'REB': 15.0, u'PTS': 14, u'AST': 3.0}, {u'REB': 15.0, u'PTS': 13, u'AST': 1.0}, {u'REB': 15.0, u'PTS': 27, u'AST': 1.0}, {u'REB': 14.0, u'PTS': 4, u'AST': 2.0}, {u'REB': 18.0, u'PTS': 16, u'AST': 3.0}, {u'REB': 7.0, u'PTS': 10, u'AST': 4.0}, {u'REB': 15.0, u'PTS': 25, u'AST': 6.0}, {u'REB': 16.0, u'PTS': 25, u'AST': 1.0}, {u'REB': 0.0, u'PTS': 3, u'AST': 0.0}, {u'REB': 0.0, u'PTS': 17, u'AST': 0.0}, {u'REB': 0.0, u'PTS': 14, u'AST': 0.0}, {u'REB': 0.0, u'PTS': 11, u'AST': 0.0}, {u'REB': 0.0, u'PTS': 6, u'AST': 0.0}, {u'REB': 0.0, u'PTS': 15, u'AST': 0.0}, {u'REB': 0.0, u'PTS': 14, u'AST': 0.0}, {u'REB': 0.0, u'PTS': 8, u'AST': 0.0}, {u'REB': 0.0, u'PTS': 6, u'AST': 0.0}, {u'REB': 0.0, u'PTS': 10, u'AST': 0.0}, {u'REB': 13.0, u'PTS': 8, u'AST': 6.0}, {u'REB': 9.0, u'PTS': 14, u'AST': 3.0}, {u'REB': 3.0, u'PTS': 11, u'AST': 2.0}, {u'REB': 13.0, u'PTS': 14, u'AST': 3.0}, {u'REB': 10.0, u'PTS': 22, u'AST': 6.0}, {u'REB': 6.0, u'PTS': 29, u'AST': 2.0}, {u'REB': 15.0, u'PTS': 18, u'AST': 0.0}, {u'REB': 7.0, u'PTS': 16, u'AST': 1.0}, {u'REB': 5.0, u'PTS': 1, u'AST': 1.0}, {u'REB': 4.0, u'PTS': 13, u'AST': 3.0}, {u'REB': 0.0, u'PTS': 5, u'AST': 0.0}, {u'REB': 0.0, u'PTS': 3, u'AST': 0.0}, {u'REB': 0.0, u'PTS': 10, u'AST': 0.0}, {u'REB': 0.0, u'PTS': 6, u'AST': 0.0}, {u'REB': 0.0, u'PTS': 0, u'AST': 0.0}, {u'REB': 0.0, u'PTS': 13, u'AST': 0.0}, {u'REB': 0.0, u'PTS': 7, u'AST': 0.0}, {u'REB': 0.0, u'PTS': 12, u'AST': 14.0}, {u'REB': 0.0, u'PTS': 6, u'AST': 0.0}, {u'REB': 0.0, u'PTS': 14, u'AST': 0.0}, {u'REB': 5.0, u'PTS': 16, u'AST': 1.0}, {u'REB': 12.0, u'PTS': 16, u'AST': 2.0}, {u'REB': 8.0, u'PTS': 20, u'AST': 0.0}, {u'REB': 9.0, u'PTS': 19, u'AST': 1.0}, {u'REB': 5.0, u'PTS': 10, u'AST': 0.0}, {u'REB': 12.0, u'PTS': 11, u'AST': 2.0}, {u'REB': 13.0, u'PTS': 15, u'AST': 3.0}, {u'REB': 11.0, u'PTS': 23, u'AST': 1.0}, {u'REB': 8.0, u'PTS': 17, u'AST': 0.0}, {u'REB': 9.0, u'PTS': 17, u'AST': 0.0}, {u'REB': 8.0, u'PTS': 11, u'AST': 4.0}, {u'REB': 3.0, u'PTS': 8, u'AST': 5.0}, {u'REB': 3.0, u'PTS': 15, u'AST': 2.0}, {u'REB': 1.0, u'PTS': 11, u'AST': 4.0}, {u'REB': 2.0, u'PTS': 10, u'AST': 1.0}, {u'REB': 6.0, u'PTS': 6, u'AST': 0.0}, {u'REB': 1.0, u'PTS': 0, u'AST': 0.0}, {u'REB': 2.0, u'PTS': 6, u'AST': 1.0}, {u'REB': 7.0, u'PTS': 20, u'AST': 1.0}, {u'REB': 5.0, u'PTS': 18, u'AST': 2.0}, {u'REB': 2.0, u'PTS': 30, u'AST': 6.0}, {u'REB': 7.0, u'PTS': 35, u'AST': 6.0}, {u'REB': 2.0, u'PTS': 24, u'AST': 3.0}, {u'REB': 8.0, u'PTS': 16, u'AST': 8.0}, {u'REB': 4.0, u'PTS': 15, u'AST': 2.0}, {u'REB': 9.0, u'PTS': 26, u'AST': 9.0}, {u'REB': 7.0, u'PTS': 16, u'AST': 10.0}, {u'REB': 7.0, u'PTS': 14, u'AST': 10.0}, {u'REB': 2.0, u'PTS': 23, u'AST': 9.0}, {u'REB': 7.0, u'PTS': 24, u'AST': 2.0}, {u'REB': 5.0, u'PTS': 16, u'AST': 2.0}, {u'REB': 3.0, u'PTS': 11, u'AST': 1.0}, {u'REB': 9.0, u'PTS': 4, u'AST': 0.0}, {u'REB': 3.0, u'PTS': 5, u'AST': 1.0}, {u'REB': 5.0, u'PTS': 8, u'AST': 2.0}, {u'REB': 2.0, u'PTS': 12, u'AST': 2.0}, {u'REB': 2.0, u'PTS': 2, u'AST': 0.0}, {u'REB': 9.0, u'PTS': 18, u'AST': 9.0}, {u'REB': 6.0, u'PTS': 19, u'AST': 2.0}, {u'REB': 3.0, u'PTS': 4, u'AST': 3.0}, {u'REB': 3.0, u'PTS': 0, u'AST': 2.0}, {u'REB': 0.0, u'PTS': 12, u'AST': 7.0}, {u'REB': 5.0, u'PTS': 14, u'AST': 1.0}, {u'REB': 3.0, u'PTS': 15, u'AST': 9.0}, {u'REB': 3.0, u'PTS': 13, u'AST': 2.0}, {u'REB': 3.0, u'PTS': 14, u'AST': 5.0}, {u'REB': 4.0, u'PTS': 30, u'AST': 11.0}, {u'REB': 7.0, u'PTS': 8, u'AST': 3.0}, {u'REB': 7.0, u'PTS': 18, u'AST': 12.0}, {u'REB': 2.0, u'PTS': 7, u'AST': 10.0}, {u'REB': 2.0, u'PTS': 13, u'AST': 0.0}, {u'REB': 8.0, u'PTS': 23, u'AST': 3.0}, {u'REB': 4.0, u'PTS': 4, u'AST': 2.0}, {u'REB': 3.0, u'PTS': 9, u'AST': 2.0}, {u'REB': 7.0, u'PTS': 23, u'AST': 2.0}, {u'REB': 1.0, u'PTS': 8, u'AST': 3.0}, {u'REB': 3.0, u'PTS': 18, u'AST': 2.0}, {u'REB': 7.0, u'PTS': 13, u'AST': 3.0}, {u'REB': 4.0, u'PTS': 4, u'AST': 1.0}, {u'REB': 6.0, u'PTS': 12, u'AST': 3.0}, {u'REB': 3.0, u'PTS': 12, u'AST': 0.0}, {u'REB': 7.0, u'PTS': 15, u'AST': 6.0}, {u'REB': 6.0, u'PTS': 7, u'AST': 2.0}, {u'REB': 6.0, u'PTS': 10, u'AST': 0.0}, {u'REB': 3.0, u'PTS': 23, u'AST': 3.0}, {u'REB': 9.0, u'PTS': 18, u'AST': 5.0}, {u'REB': 10.0, u'PTS': 15, u'AST': 1.0}, {u'REB': 8.0, u'PTS': 16, u'AST': 3.0}, {u'REB': 12.0, u'PTS': 19, u'AST': 4.0}, {u'REB': 7.0, u'PTS': 12, u'AST': 3.0}, {u'REB': 0.0, u'PTS': 0, u'AST': 0.0}, {u'REB': 3.0, u'PTS': 9, u'AST': 6.0}, {u'REB': 1.0, u'PTS': 2, u'AST': 3.0}, {u'REB': 7.0, u'PTS': 17, u'AST': 12.0}, {u'REB': 1.0, u'PTS': 6, u'AST': 4.0}, {u'REB': 1.0, u'PTS': 9, u'AST': 1.0}, {u'REB': 2.0, u'PTS': 8, u'AST': 6.0}, {u'REB': 2.0, u'PTS': 14, u'AST': 7.0}, {u'REB': 0.0, u'PTS': 5, u'AST': 1.0}, {u'REB': 2.0, u'PTS': 4, u'AST': 1.0}, {u'REB': 3.0, u'PTS': 2, u'AST': 1.0}, {u'REB': 1.0, u'PTS': 2, u'AST': 0.0}, {u'REB': 0.0, u'PTS': 6, u'AST': 0.0}, {u'REB': 0.0, u'PTS': 4, u'AST': 0.0}, {u'REB': 2.0, u'PTS': 16, u'AST': 2.0}, {u'REB': 2.0, u'PTS': 3, u'AST': 1.0}, {u'REB': 1.0, u'PTS': 11, u'AST': 1.0}, {u'REB': 1.0, u'PTS': 12, u'AST': 1.0}, {u'REB': 4.0, u'PTS': 2, u'AST': 1.0}, {u'REB': 1.0, u'PTS': 1, u'AST': 0.0}, {u'REB': 4.0, u'PTS': 7, u'AST': 2.0}, {u'REB': 1.0, u'PTS': 0, u'AST': 0.0}, {u'REB': 1.0, u'PTS': 3, u'AST': 0.0}, {u'REB': 5.0, u'PTS': 20, u'AST': 3.0}, {u'REB': 8.0, u'PTS': 15, u'AST': 3.0}, {u'REB': 3.0, u'PTS': 7, u'AST': 1.0}, {u'REB': 4.0, u'PTS': 4, u'AST': 1.0}, {u'REB': 5.0, u'PTS': 14, u'AST': 3.0}, {u'REB': 3.0, u'PTS': 11, u'AST': 2.0}, {u'REB': 4.0, u'PTS': 12, u'AST': 2.0}, {u'REB': 2.0, u'PTS': 5, u'AST': 0.0}, {u'REB': 2.0, u'PTS': 2, u'AST': 0.0}, {u'REB': 5.0, u'PTS': 7, u'AST': 0.0}, {u'REB': 3.0, u'PTS': 4, u'AST': 1.0}, {u'REB': 2.0, u'PTS': 8, u'AST': 0.0}, {u'REB': 6.0, u'PTS': 7, u'AST': 0.0}, {u'REB': 5.0, u'PTS': 8, u'AST': 1.0}, {u'REB': 0.0, u'PTS': 2, u'AST': 0.0}, {u'REB': 4.0, u'PTS': 2, u'AST': 0.0}, {u'REB': 3.0, u'PTS': 10, u'AST': 0.0}, {u'REB': 16.0, u'PTS': 16, u'AST': 0.0}, {u'REB': 9.0, u'PTS': 13, u'AST': 0.0}, {u'REB': 5.0, u'PTS': 11, u'AST': 0.0}, {u'REB': 8.0, u'PTS': 20, u'AST': 0.0}, {u'REB': 8.0, u'PTS': 10, u'AST': 0.0}, {u'REB': 10.0, u'PTS': 13, u'AST': 1.0}, {u'REB': 15.0, u'PTS': 21, u'AST': 0.0}, {u'REB': 3.0, u'PTS': 4, u'AST': 0.0}, {u'REB': 5.0, u'PTS': 9, u'AST': 0.0}, {u'REB': 11.0, u'PTS': 10, u'AST': 1.0}, {u'REB': 10.0, u'PTS': 0, u'AST': 0.0}, {u'REB': 0.0, u'PTS': 0, u'AST': 1.0}, {u'REB': 0.0, u'PTS': 0, u'AST': 0.0}, {u'REB': 2.0, u'PTS': 2, u'AST': 0.0}, {u'REB': 1.0, u'PTS': 0, u'AST': 0.0}, {u'REB': 1.0, u'PTS': 0, u'AST': 0.0}, {u'REB': 1.0, u'PTS': 0, u'AST': 0.0}, {u'REB': 3.0, u'PTS': 0, u'AST': 0.0}, {u'REB': 10.0, u'PTS': 6, u'AST': 1.0}, {u'REB': 3.0, u'PTS': 2, u'AST': 0.0}, {u'REB': 0.0, u'PTS': 23, u'AST': 0.0}, {u'REB': 0.0, u'PTS': 22, u'AST': 0.0}, {u'REB': 0.0, u'PTS': 16, u'AST': 0.0}, {u'REB': 0.0, u'PTS': 18, u'AST': 0.0}, {u'REB': 0.0, u'PTS': 18, u'AST': 0.0}, {u'REB': 0.0, u'PTS': 2, u'AST': 0.0}, {u'REB': 0.0, u'PTS': 30, u'AST': 0.0}, {u'REB': 0.0, u'PTS': 10, u'AST': 0.0}, {u'REB': 0.0, u'PTS': 24, u'AST': 0.0}, {u'REB': 0.0, u'PTS': 27, u'AST': 0.0}, {u'REB': 0.0, u'PTS': 16, u'AST': 0.0}, {u'REB': 0.0, u'PTS': 20, u'AST': 0.0}, {u'REB': 0.0, u'PTS': 10, u'AST': 0.0}, {u'REB': 0.0, u'PTS': 21, u'AST': 0.0}, {u'REB': 0.0, u'PTS': 12, u'AST': 0.0}, {u'REB': 0.0, u'PTS': 23, u'AST': 0.0}, {u'REB': 0.0, u'PTS': 5, u'AST': 0.0}, {u'REB': 0.0, u'PTS': 15, u'AST': 0.0}, {u'REB': 0.0, u'PTS': 13, u'AST': 0.0}, {u'REB': 0.0, u'PTS': 22, u'AST': 0.0}, {u'REB': 0.0, u'PTS': 4, u'AST': 0.0}, {u'REB': 0.0, u'PTS': 13, u'AST': 0.0}, {u'REB': 0.0, u'PTS': 7, u'AST': 0.0}, {u'REB': 0.0, u'PTS': 10, u'AST': 0.0}, {u'REB': 0.0, u'PTS': 2, u'AST': 0.0}, {u'REB': 0.0, u'PTS': 8, u'AST': 0.0}, {u'REB': 0.0, u'PTS': 4, u'AST': 0.0}, {u'REB': 0.0, u'PTS': 6, u'AST': 0.0}, {u'REB': 0.0, u'PTS': 4, u'AST': 0.0}, {u'REB': 0.0, u'PTS': 6, u'AST': 0.0}, {u'REB': 0.0, u'PTS': 18, u'AST': 0.0}, {u'REB': 0.0, u'PTS': 7, u'AST': 0.0}, {u'REB': 0.0, u'PTS': 6, u'AST': 0.0}, {u'REB': 0.0, u'PTS': 15, u'AST': 0.0}, {u'REB': 0.0, u'PTS': 21, u'AST': 0.0}, {u'REB': 0.0, u'PTS': 8, u'AST': 0.0}, {u'REB': 0.0, u'PTS': 5, u'AST': 0.0}, {u'REB': 0.0, u'PTS': 26, u'AST': 0.0}, {u'REB': 0.0, u'PTS': 14, u'AST': 0.0}, {u'REB': 0.0, u'PTS': 8, u'AST': 0.0}, {u'REB': 0.0, u'PTS': 13, u'AST': 0.0}, {u'REB': 0.0, u'PTS': 13, u'AST': 0.0}, {u'REB': 0.0, u'PTS': 21, u'AST': 0.0}, {u'REB': 0.0, u'PTS': 36, u'AST': 0.0}, {u'REB': 0.0, u'PTS': 24, u'AST': 0.0}, {u'REB': 0.0, u'PTS': 18, u'AST': 0.0}, {u'REB': 0.0, u'PTS': 23, u'AST': 0.0}, {u'REB': 5.0, u'PTS': 4, u'AST': 3.0}, {u'REB': 0.0, u'PTS': 18, u'AST': 0.0}, {u'REB': 0.0, u'PTS': 23, u'AST': 0.0}, {u'REB': 10.0, u'PTS': 15, u'AST': 2.0}, {u'REB': 5.0, u'PTS': 9, u'AST': 4.0}, {u'REB': 8.0, u'PTS': 15, u'AST': 3.0}, {u'REB': 9.0, u'PTS': 22, u'AST': 1.0}, {u'REB': 13.0, u'PTS': 19, u'AST': 4.0}, {u'REB': 17.0, u'PTS': 15, u'AST': 0.0}, {u'REB': 10.0, u'PTS': 19, u'AST': 2.0}, {u'REB': 9.0, u'PTS': 8, u'AST': 0.0}, {u'REB': 7.0, u'PTS': 9, u'AST': 0.0}, {u'REB': 10.0, u'PTS': 11, u'AST': 1.0}, {u'REB': 2.0, u'PTS': 15, u'AST': 4.0}, {u'REB': 2.0, u'PTS': 8, u'AST': 6.0}, {u'REB': 2.0, u'PTS': 22, u'AST': 3.0}, {u'REB': 2.0, u'PTS': 12, u'AST': 9.0}, {u'REB': 1.0, u'PTS': 15, u'AST': 8.0}, {u'REB': 1.0, u'PTS': 5, u'AST': 2.0}, {u'REB': 3.0, u'PTS': 5, u'AST': 4.0}, {u'REB': 0.0, u'PTS': 6, u'AST': 3.0}, {u'REB': 4.0, u'PTS': 13, u'AST': 6.0}, {u'REB': 1.0, u'PTS': 3, u'AST': 0.0}, {u'REB': 1.0, u'PTS': 0, u'AST': 0.0}, {u'REB': 1.0, u'PTS': 8, u'AST': 2.0}, {u'REB': 3.0, u'PTS': 0, u'AST': 0.0}, {u'REB': 11.0, u'PTS': 10, u'AST': 2.0}, {u'REB': 1.0, u'PTS': 0, u'AST': 0.0}, {u'REB': 0.0, u'PTS': 0, u'AST': 1.0}, {u'REB': 5.0, u'PTS': 8, u'AST': 0.0}, {u'REB': 1.0, u'PTS': 2, u'AST': 1.0}, {u'REB': 6.0, u'PTS': 8, u'AST': 1.0}, {u'REB': 0.0, u'PTS': 2, u'AST': 0.0}, {u'REB': 4.0, u'PTS': 9, u'AST': 1.0}, {u'REB': 13.0, u'PTS': 27, u'AST': 1.0}, {u'REB': 8.0, u'PTS': 20, u'AST': 2.0}, {u'REB': 4.0, u'PTS': 27, u'AST': 2.0}, {u'REB': 7.0, u'PTS': 9, u'AST': 1.0}, {u'REB': 4.0, u'PTS': 8, u'AST': 4.0}, {u'REB': 6.0, u'PTS': 12, u'AST': 1.0}, {u'REB': 11.0, u'PTS': 15, u'AST': 1.0}, {u'REB': 9.0, u'PTS': 25, u'AST': 2.0}, {u'REB': 6.0, u'PTS': 15, u'AST': 2.0}, {u'REB': 11.0, u'PTS': 22, u'AST': 2.0}, {u'REB': 11.0, u'PTS': 27, u'AST': 5.0}, {u'REB': 1.0, u'PTS': 21, u'AST': 3.0}, {u'REB': 11.0, u'PTS': 23, u'AST': 4.0}, {u'REB': 7.0, u'PTS': 19, u'AST': 4.0}, {u'REB': 5.0, u'PTS': 12, u'AST': 2.0}, {u'REB': 13.0, u'PTS': 34, u'AST': 4.0}, {u'REB': 7.0, u'PTS': 19, u'AST': 4.0}, {u'REB': 8.0, u'PTS': 16, u'AST': 3.0}, {u'REB': 4.0, u'PTS': 18, u'AST': 4.0}, {u'REB': 9.0, u'PTS': 23, u'AST': 5.0}, {u'REB': 3.0, u'PTS': 13, u'AST': 3.0}, {u'REB': 3.0, u'PTS': 16, u'AST': 2.0}, {u'REB': 6.0, u'PTS': 16, u'AST': 1.0}, {u'REB': 8.0, u'PTS': 17, u'AST': 2.0}, {u'REB': 7.0, u'PTS': 9, u'AST': 3.0}, {u'REB': 12.0, u'PTS': 16, u'AST': 2.0}, {u'REB': 5.0, u'PTS': 31, u'AST': 2.0}, {u'REB': 9.0, u'PTS': 20, u'AST': 1.0}, {u'REB': 6.0, u'PTS': 17, u'AST': 3.0}, {u'REB': 3.0, u'PTS': 26, u'AST': 4.0}, {u'REB': 9.0, u'PTS': 19, u'AST': 1.0}, {u'REB': 6.0, u'PTS': 19, u'AST': 3.0}, {u'REB': 11.0, u'PTS': 30, u'AST': 4.0}, {u'REB': 8.0, u'PTS': 17, u'AST': 5.0}, {u'REB': 8.0, u'PTS': 30, u'AST': 5.0}, {u'REB': 5.0, u'PTS': 15, u'AST': 2.0}, {u'REB': 12.0, u'PTS': 17, u'AST': 4.0}, {u'REB': 4.0, u'PTS': 11, u'AST': 2.0}, {u'REB': 3.0, u'PTS': 22, u'AST': 2.0}, {u'REB': 0.0, u'PTS': 4, u'AST': 1.0}, {u'REB': 4.0, u'PTS': 6, u'AST': 0.0}, {u'REB': 2.0, u'PTS': 6, u'AST': 2.0}, {u'REB': 3.0, u'PTS': 1, u'AST': 0.0}, {u'REB': 0.0, u'PTS': 0, u'AST': 0.0}, {u'REB': 2.0, u'PTS': 4, u'AST': 1.0}, {u'REB': 2.0, u'PTS': 4, u'AST': 1.0}, {u'REB': 4.0, u'PTS': 2, u'AST': 0.0}, {u'REB': 5.0, u'PTS': 8, u'AST': 1.0}, {u'REB': 7.0, u'PTS': 11, u'AST': 0.0}, {u'REB': 2.0, u'PTS': 1, u'AST': 1.0}, {u'REB': 1.0, u'PTS': 5, u'AST': 0.0}, {u'REB': 6.0, u'PTS': 7, u'AST': 0.0}, {u'REB': 12.0, u'PTS': 13, u'AST': 2.0}, {u'REB': 7.0, u'PTS': 4, u'AST': 4.0}, {u'REB': 3.0, u'PTS': 8, u'AST': 0.0}, {u'REB': 8.0, u'PTS': 11, u'AST': 1.0}, {u'REB': 5.0, u'PTS': 11, u'AST': 1.0}, {u'REB': 10.0, u'PTS': 14, u'AST': 1.0}, {u'REB': 2.0, u'PTS': 6, u'AST': 0.0}, {u'REB': 6.0, u'PTS': 13, u'AST': 0.0}, {u'REB': 6.0, u'PTS': 9, u'AST': 1.0}, {u'REB': 9.0, u'PTS': 17, u'AST': 0.0}, {u'REB': 6.0, u'PTS': 19, u'AST': 2.0}, {u'REB': 17.0, u'PTS': 29, u'AST': 4.0}, {u'REB': 9.0, u'PTS': 16, u'AST': 2.0}, {u'REB': 7.0, u'PTS': 16, u'AST': 1.0}, {u'REB': 6.0, u'PTS': 24, u'AST': 2.0}, {u'REB': 9.0, u'PTS': 18, u'AST': 5.0}, {u'REB': 8.0, u'PTS': 14, u'AST': 1.0}, {u'REB': 10.0, u'PTS': 26, u'AST': 5.0}, {u'REB': 4.0, u'PTS': 22, u'AST': 7.0}, {u'REB': 5.0, u'PTS': 27, u'AST': 8.0}, {u'REB': 6.0, u'PTS': 18, u'AST': 12.0}, {u'REB': 3.0, u'PTS': 3, u'AST': 6.0}, {u'REB': 4.0, u'PTS': 16, u'AST': 11.0}, {u'REB': 6.0, u'PTS': 14, u'AST': 4.0}, {u'REB': 7.0, u'PTS': 27, u'AST': 5.0}, {u'REB': 9.0, u'PTS': 21, u'AST': 4.0}, {u'REB': 4.0, u'PTS': 17, u'AST': 7.0}, {u'REB': 5.0, u'PTS': 6, u'AST': 3.0}, {u'REB': 1.0, u'PTS': 2, u'AST': 4.0}, {u'REB': 0.0, u'PTS': 4, u'AST': 3.0}, {u'REB': 1.0, u'PTS': 2, u'AST': 2.0}, {u'REB': 2.0, u'PTS': 13, u'AST': 5.0}, {u'REB': 4.0, u'PTS': 3, u'AST': 2.0}, {u'REB': 5.0, u'PTS': 9, u'AST': 2.0}, {u'REB': 4.0, u'PTS': 6, u'AST': 4.0}, {u'REB': 1.0, u'PTS': 10, u'AST': 1.0}, {u'REB': 2.0, u'PTS': 11, u'AST': 7.0}, {u'REB': 2.0, u'PTS': 23, u'AST': 2.0}, {u'REB': 5.0, u'PTS': 18, u'AST': 1.0}, {u'REB': 5.0, u'PTS': 11, u'AST': 2.0}, {u'REB': 0.0, u'PTS': 4, u'AST': 2.0}, {u'REB': 2.0, u'PTS': 19, u'AST': 3.0}, {u'REB': 3.0, u'PTS': 6, u'AST': 2.0}, {u'REB': 6.0, u'PTS': 26, u'AST': 4.0}, {u'REB': 8.0, u'PTS': 13, u'AST': 4.0}, {u'REB': 2.0, u'PTS': 14, u'AST': 5.0}, {u'REB': 5.0, u'PTS': 12, u'AST': 6.0}, {u'REB': 4.0, u'PTS': 15, u'AST': 0.0}, {u'REB': 8.0, u'PTS': 13, u'AST': 0.0}, {u'REB': 2.0, u'PTS': 4, u'AST': 0.0}, {u'REB': 4.0, u'PTS': 17, u'AST': 3.0}, {u'REB': 5.0, u'PTS': 8, u'AST': 1.0}, {u'REB': 0.0, u'PTS': 10, u'AST': 0.0}, {u'REB': 3.0, u'PTS': 9, u'AST': 1.0}, {u'REB': 7.0, u'PTS': 14, u'AST': 2.0}, {u'REB': 2.0, u'PTS': 4, u'AST': 2.0}, {u'REB': 4.0, u'PTS': 16, u'AST': 0.0}, {u'REB': 8.0, u'PTS': 10, u'AST': 0.0}, {u'REB': 5.0, u'PTS': 10, u'AST': 0.0}, {u'REB': 4.0, u'PTS': 13, u'AST': 2.0}, {u'REB': 5.0, u'PTS': 6, u'AST': 1.0}, {u'REB': 3.0, u'PTS': 11, u'AST': 4.0}, {u'REB': 3.0, u'PTS': 6, u'AST': 1.0}, {u'REB': 14.0, u'PTS': 14, u'AST': 3.0}, {u'REB': 3.0, u'PTS': 4, u'AST': 0.0}, {u'REB': 6.0, u'PTS': 2, u'AST': 0.0}, {u'REB': 8.0, u'PTS': 27, u'AST': 4.0}, {u'REB': 3.0, u'PTS': 8, u'AST': 3.0}, {u'REB': 1.0, u'PTS': 2, u'AST': 2.0}, {u'REB': 4.0, u'PTS': 14, u'AST': 6.0}, {u'REB': 0.0, u'PTS': 14, u'AST': 0.0}, {u'REB': 6.0, u'PTS': 20, u'AST': 0.0}, {u'REB': 5.0, u'PTS': 9, u'AST': 1.0}, {u'REB': 3.0, u'PTS': 11, u'AST': 3.0}, {u'REB': 4.0, u'PTS': 2, u'AST': 0.0}, {u'REB': 9.0, u'PTS': 6, u'AST': 4.0}, {u'REB': 4.0, u'PTS': 14, u'AST': 1.0}, {u'REB': 2.0, u'PTS': 7, u'AST': 3.0}, {u'REB': 2.0, u'PTS': 11, u'AST': 1.0}, {u'REB': 2.0, u'PTS': 8, u'AST': 0.0}, {u'REB': 4.0, u'PTS': 6, u'AST': 2.0}, {u'REB': 1.0, u'PTS': 4, u'AST': 0.0}, {u'REB': 4.0, u'PTS': 6, u'AST': 2.0}, {u'REB': 0.0, u'PTS': 5, u'AST': 1.0}, {u'REB': 1.0, u'PTS': 2, u'AST': 0.0}, {u'REB': 2.0, u'PTS': 8, u'AST': 1.0}, {u'REB': 3.0, u'PTS': 9, u'AST': 3.0}, {u'REB': 7.0, u'PTS': 10, u'AST': 2.0}, {u'REB': 2.0, u'PTS': 2, u'AST': 2.0}, {u'REB': 8.0, u'PTS': 18, u'AST': 2.0}, {u'REB': 5.0, u'PTS': 4, u'AST': 4.0}, {u'REB': 13.0, u'PTS': 15, u'AST': 0.0}, {u'REB': 15.0, u'PTS': 19, u'AST': 0.0}, {u'REB': 5.0, u'PTS': 4, u'AST': 0.0}, {u'REB': 9.0, u'PTS': 15, u'AST': 3.0}, {u'REB': 5.0, u'PTS': 6, u'AST': 0.0}, {u'REB': 10.0, u'PTS': 19, u'AST': 2.0}, {u'REB': 2.0, u'PTS': 4, u'AST': 0.0}, {u'REB': 3.0, u'PTS': 7, u'AST': 0.0}, {u'REB': 7.0, u'PTS': 2, u'AST': 0.0}, {u'REB': 2.0, u'PTS': 3, u'AST': 0.0}, {u'REB': 1.0, u'PTS': 0, u'AST': 0.0}, {u'REB': 0.0, u'PTS': 2, u'AST': 0.0}, {u'REB': 3.0, u'PTS': 5, u'AST': 0.0}, {u'REB': 8.0, u'PTS': 16, u'AST': 1.0}, {u'REB': 6.0, u'PTS': 10, u'AST': 0.0}, {u'REB': 9.0, u'PTS': 10, u'AST': 1.0}, {u'REB': 0.0, u'PTS': 0, u'AST': 0.0}, {u'REB': 0.0, u'PTS': 0, u'AST': 0.0}, {u'REB': 0.0, u'PTS': 8, u'AST': 0.0}, {u'REB': 1.0, u'PTS': 0, u'AST': 0.0}, {u'REB': 0.0, u'PTS': 0, u'AST': 0.0}, {u'REB': 0.0, u'PTS': 2, u'AST': 0.0}, {u'REB': 0.0, u'PTS': 4, u'AST': 2.0}, {u'REB': 2.0, u'PTS': 10, u'AST': 2.0}, {u'REB': 1.0, u'PTS': 11, u'AST': 0.0}, {u'REB': 1.0, u'PTS': 9, u'AST': 0.0}, {u'REB': 0.0, u'PTS': 1, u'AST': 0.0}, {u'REB': 0.0, u'PTS': 2, u'AST': 0.0}, {u'REB': 4.0, u'PTS': 7, u'AST': 2.0}, {u'REB': 4.0, u'PTS': 0, u'AST': 0.0}, {u'REB': 1.0, u'PTS': 2, u'AST': 0.0}, {u'REB': 0.0, u'PTS': 2, u'AST': 0.0}, {u'REB': 0.0, u'PTS': 2, u'AST': 0.0}, {u'REB': 0.0, u'PTS': 1, u'AST': 1.0}, {u'REB': 1.0, u'PTS': 3, u'AST': 0.0}, {u'REB': 2.0, u'PTS': 5, u'AST': 0.0}, {u'REB': 4.0, u'PTS': 4, u'AST': 1.0}, {u'REB': 5.0, u'PTS': 16, u'AST': 1.0}, {u'REB': 4.0, u'PTS': 6, u'AST': 2.0}, {u'REB': 10.0, u'PTS': 17, u'AST': 1.0}, {u'REB': 5.0, u'PTS': 14, u'AST': 2.0}, {u'REB': 8.0, u'PTS': 26, u'AST': 3.0}, {u'REB': 8.0, u'PTS': 18, u'AST': 2.0}, {u'REB': 6.0, u'PTS': 11, u'AST': 1.0}, {u'REB': 6.0, u'PTS': 15, u'AST': 3.0}, {u'REB': 9.0, u'PTS': 22, u'AST': 0.0}, {u'REB': 7.0, u'PTS': 10, u'AST': 4.0}, {u'REB': 0.0, u'PTS': 7, u'AST': 1.0}, {u'REB': 8.0, u'PTS': 22, u'AST': 6.0}, {u'REB': 0.0, u'PTS': 2, u'AST': 1.0}, {u'REB': 2.0, u'PTS': 8, u'AST': 1.0}, {u'REB': 9.0, u'PTS': 2, u'AST': 3.0}, {u'REB': 5.0, u'PTS': 10, u'AST': 0.0}, {u'REB': 5.0, u'PTS': 3, u'AST': 2.0}, {u'REB': 4.0, u'PTS': 2, u'AST': 0.0}, {u'REB': 0.0, u'PTS': 4, u'AST': 3.0}, {u'REB': 1.0, u'PTS': 1, u'AST': 0.0}, {u'REB': 0.0, u'PTS': 2, u'AST': 0.0}, {u'REB': 2.0, u'PTS': 2, u'AST': 0.0}, {u'REB': 0.0, u'PTS': 0, u'AST': 0.0}, {u'REB': 1.0, u'PTS': 0, u'AST': 0.0}, {u'REB': 0.0, u'PTS': 2, u'AST': 0.0}, {u'REB': 3.0, u'PTS': 10, u'AST': 0.0}, {u'REB': 2.0, u'PTS': 2, u'AST': 0.0}, {u'REB': 5.0, u'PTS': 9, u'AST': 1.0}, {u'REB': 0.0, u'PTS': 0, u'AST': 0.0}, {u'REB': 2.0, u'PTS': 2, u'AST': 0.0}, {u'REB': 0.0, u'PTS': 2, u'AST': 1.0}, {u'REB': 1.0, u'PTS': 2, u'AST': 1.0}, {u'REB': 0.0, u'PTS': 0, u'AST': 0.0}, {u'REB': 0.0, u'PTS': 2, u'AST': 0.0}, {u'REB': 1.0, u'PTS': 2, u'AST': 0.0}, {u'REB': 0.0, u'PTS': 0, u'AST': 1.0}, {u'REB': 5.0, u'PTS': 5, u'AST': 1.0}, {u'REB': 6.0, u'PTS': 9, u'AST': 1.0}, {u'REB': 1.0, u'PTS': 0, u'AST': 1.0}, {u'REB': 3.0, u'PTS': 9, u'AST': 3.0}, {u'REB': 2.0, u'PTS': 2, u'AST': 0.0}, {u'REB': 4.0, u'PTS': 19, u'AST': 8.0}, {u'REB': 5.0, u'PTS': 14, u'AST': 4.0}, {u'REB': 1.0, u'PTS': 2, u'AST': 8.0}, {u'REB': 7.0, u'PTS': 13, u'AST': 7.0}, {u'REB': 2.0, u'PTS': 9, u'AST': 4.0}, {u'REB': 3.0, u'PTS': 19, u'AST': 4.0}, {u'REB': 1.0, u'PTS': 11, u'AST': 2.0}, {u'REB': 2.0, u'PTS': 15, u'AST': 6.0}, {u'REB': 0.0, u'PTS': 0, u'AST': 0.0}, {u'REB': 1.0, u'PTS': 1, u'AST': 1.0}, {u'REB': 1.0, u'PTS': 7, u'AST': 0.0}, {u'REB': 0.0, u'PTS': 1, u'AST': 0.0}, {u'REB': 1.0, u'PTS': 8, u'AST': 0.0}, {u'REB': 0.0, u'PTS': 2, u'AST': 0.0}, {u'REB': 0.0, u'PTS': 0, u'AST': 0.0}, {u'REB': 0.0, u'PTS': 0, u'AST': 1.0}, {u'REB': 0.0, u'PTS': 0, u'AST': 1.0}, {u'REB': 7.0, u'PTS': 12, u'AST': 5.0}, {u'REB': 3.0, u'PTS': 6, u'AST': 1.0}, {u'REB': 4.0, u'PTS': 2, u'AST': 0.0}, {u'REB': 1.0, u'PTS': 0, u'AST': 0.0}, {u'REB': 3.0, u'PTS': 3, u'AST': 0.0}, {u'REB': 0.0, u'PTS': 0, u'AST': 0.0}, {u'REB': 0.0, u'PTS': 0, u'AST': 0.0}, {u'REB': 0.0, u'PTS': 2, u'AST': 0.0}, {u'REB': 2.0, u'PTS': 3, u'AST': 2.0}, {u'REB': 0.0, u'PTS': 0, u'AST': 0.0}, {u'REB': 1.0, u'PTS': 6, u'AST': 2.0}, {u'REB': 2.0, u'PTS': 0, u'AST': 0.0}, {u'REB': 7.0, u'PTS': 2, u'AST': 1.0}, {u'REB': 4.0, u'PTS': 7, u'AST': 2.0}, {u'REB': 2.0, u'PTS': 10, u'AST': 0.0}, {u'REB': 6.0, u'PTS': 20, u'AST': 0.0}, {u'REB': 6.0, u'PTS': 9, u'AST': 0.0}, {u'REB': 4.0, u'PTS': 8, u'AST': 0.0}, {u'REB': 16.0, u'PTS': 30, u'AST': 1.0}, {u'REB': 8.0, u'PTS': 18, u'AST': 2.0}, {u'REB': 7.0, u'PTS': 4, u'AST': 0.0}, {u'REB': 6.0, u'PTS': 10, u'AST': 1.0}, {u'REB': 8.0, u'PTS': 10, u'AST': 1.0}, {u'REB': 8.0, u'PTS': 12, u'AST': 0.0}, {u'REB': 1.0, u'PTS': 5, u'AST': 0.0}, {u'REB': 6.0, u'PTS': 2, u'AST': 1.0}, {u'REB': 8.0, u'PTS': 7, u'AST': 1.0}, {u'REB': 2.0, u'PTS': 0, u'AST': 0.0}, {u'REB': 5.0, u'PTS': 9, u'AST': 1.0}, {u'REB': 13.0, u'PTS': 15, u'AST': 1.0}, {u'REB': 11.0, u'PTS': 13, u'AST': 2.0}, {u'REB': 7.0, u'PTS': 16, u'AST': 3.0}, {u'REB': 3.0, u'PTS': 14, u'AST': 1.0}, {u'REB': 9.0, u'PTS': 18, u'AST': 3.0}, {u'REB': 1.0, u'PTS': 5, u'AST': 1.0}, {u'REB': 7.0, u'PTS': 20, u'AST': 5.0}, {u'REB': 4.0, u'PTS': 12, u'AST': 4.0}, {u'REB': 4.0, u'PTS': 6, u'AST': 1.0}, {u'REB': 8.0, u'PTS': 14, u'AST': 2.0}, {u'REB': 9.0, u'PTS': 18, u'AST': 2.0}, {u'REB': 6.0, u'PTS': 13, u'AST': 6.0}, {u'REB': 3.0, u'PTS': 4, u'AST': 0.0}, {u'REB': 1.0, u'PTS': 2, u'AST': 0.0}, {u'REB': 0.0, u'PTS': 0, u'AST': 0.0}, {u'REB': 5.0, u'PTS': 8, u'AST': 0.0}, {u'REB': 1.0, u'PTS': 0, u'AST': 0.0}, {u'REB': 2.0, u'PTS': 10, u'AST': 2.0}, {u'REB': 2.0, u'PTS': 3, u'AST': 0.0}, {u'REB': 2.0, u'PTS': 6, u'AST': 1.0}, {u'REB': 11.0, u'PTS': 16, u'AST': 1.0}, {u'REB': 10.0, u'PTS': 15, u'AST': 0.0}, {u'REB': 6.0, u'PTS': 25, u'AST': 9.0}, {u'REB': 12.0, u'PTS': 21, u'AST': 8.0}, {u'REB': 4.0, u'PTS': 8, u'AST': 6.0}, {u'REB': 5.0, u'PTS': 17, u'AST': 4.0}, {u'REB': 3.0, u'PTS': 18, u'AST': 7.0}, {u'REB': 5.0, u'PTS': 10, u'AST': 3.0}, {u'REB': 5.0, u'PTS': 22, u'AST': 8.0}, {u'REB': 7.0, u'PTS': 14, u'AST': 8.0}, {u'REB': 7.0, u'PTS': 28, u'AST': 8.0}, {u'REB': 9.0, u'PTS': 19, u'AST': 2.0}, {u'REB': 7.0, u'PTS': 12, u'AST': 3.0}, {u'REB': 9.0, u'PTS': 18, u'AST': 2.0}, {u'REB': 6.0, u'PTS': 23, u'AST': 5.0}, {u'REB': 8.0, u'PTS': 26, u'AST': 3.0}, {u'REB': 14.0, u'PTS': 17, u'AST': 7.0}, {u'REB': 9.0, u'PTS': 10, u'AST': 0.0}, {u'REB': 11.0, u'PTS': 13, u'AST': 1.0}, {u'REB': 4.0, u'PTS': 23, u'AST': 7.0}, {u'REB': 10.0, u'PTS': 16, u'AST': 3.0}, {u'REB': 7.0, u'PTS': 17, u'AST': 5.0}, {u'REB': 4.0, u'PTS': 11, u'AST': 0.0}, {u'REB': 2.0, u'PTS': 5, u'AST': 0.0}, {u'REB': 3.0, u'PTS': 5, u'AST': 0.0}, {u'REB': 2.0, u'PTS': 12, u'AST': 0.0}, {u'REB': 8.0, u'PTS': 10, u'AST': 0.0}, {u'REB': 6.0, u'PTS': 6, u'AST': 1.0}, {u'REB': 9.0, u'PTS': 25, u'AST': 1.0}, {u'REB': 6.0, u'PTS': 16, u'AST': 0.0}, {u'REB': 6.0, u'PTS': 11, u'AST': 1.0}, {u'REB': 6.0, u'PTS': 13, u'AST': 0.0}, {u'REB': 4.0, u'PTS': 18, u'AST': 4.0}, {u'REB': 2.0, u'PTS': 5, u'AST': 4.0}, {u'REB': 3.0, u'PTS': 4, u'AST': 2.0}, {u'REB': 5.0, u'PTS': 11, u'AST': 5.0}, {u'REB': 7.0, u'PTS': 14, u'AST': 5.0}, {u'REB': 5.0, u'PTS': 7, u'AST': 6.0}, {u'REB': 1.0, u'PTS': 10, u'AST': 1.0}, {u'REB': 5.0, u'PTS': 18, u'AST': 5.0}, {u'REB': 6.0, u'PTS': 24, u'AST': 4.0}, {u'REB': 6.0, u'PTS': 13, u'AST': 3.0}, {u'REB': 2.0, u'PTS': 2, u'AST': 0.0}, {u'REB': 6.0, u'PTS': 7, u'AST': 2.0}, {u'REB': 1.0, u'PTS': 0, u'AST': 0.0}, {u'REB': 1.0, u'PTS': 4, u'AST': 0.0}, {u'REB': 9.0, u'PTS': 8, u'AST': 3.0}, {u'REB': 5.0, u'PTS': 3, u'AST': 0.0}, {u'REB': 5.0, u'PTS': 6, u'AST': 0.0}, {u'REB': 15.0, u'PTS': 12, u'AST': 2.0}, {u'REB': 2.0, u'PTS': 2, u'AST': 0.0}, {u'REB': 5.0, u'PTS': 12, u'AST': 0.0}, {u'REB': 2.0, u'PTS': 3, u'AST': 0.0}, {u'REB': 5.0, u'PTS': 9, u'AST': 0.0}, {u'REB': 0.0, u'PTS': 0, u'AST': 0.0}, {u'REB': 4.0, u'PTS': 8, u'AST': 0.0}, {u'REB': 5.0, u'PTS': 2, u'AST': 1.0}, {u'REB': 9.0, u'PTS': 4, u'AST': 4.0}, {u'REB': 1.0, u'PTS': 0, u'AST': 0.0}, {u'REB': 4.0, u'PTS': 3, u'AST': 1.0}, {u'REB': 2.0, u'PTS': 0, u'AST': 0.0}, {u'REB': 3.0, u'PTS': 0, u'AST': 0.0}, {u'REB': 1.0, u'PTS': 7, u'AST': 6.0}, {u'REB': 0.0, u'PTS': 0, u'AST': 0.0}, {u'REB': 0.0, u'PTS': 4, u'AST': 0.0}, {u'REB': 6.0, u'PTS': 10, u'AST': 4.0}, {u'REB': 2.0, u'PTS': 6, u'AST': 5.0}, {u'REB': 2.0, u'PTS': 6, u'AST': 1.0}, {u'REB': 0.0, u'PTS': 8, u'AST': 2.0}, {u'REB': 0.0, u'PTS': 0, u'AST': 1.0}, {u'REB': 0.0, u'PTS': 2, u'AST': 1.0}, {u'REB': 1.0, u'PTS': 2, u'AST': 0.0}, {u'REB': 10.0, u'PTS': 4, u'AST': 2.0}, {u'REB': 15.0, u'PTS': 5, u'AST': 0.0}, {u'REB': 14.0, u'PTS': 9, u'AST': 0.0}, {u'REB': 10.0, u'PTS': 5, u'AST': 0.0}, {u'REB': 11.0, u'PTS': 5, u'AST': 1.0}, {u'REB': 6.0, u'PTS': 11, u'AST': 2.0}, {u'REB': 9.0, u'PTS': 24, u'AST': 2.0}, {u'REB': 10.0, u'PTS': 12, u'AST': 3.0}, {u'REB': 10.0, u'PTS': 10, u'AST': 2.0}, {u'REB': 10.0, u'PTS': 12, u'AST': 2.0}, {u'REB': 3.0, u'PTS': 9, u'AST': 3.0}, {u'REB': 0.0, u'PTS': 5, u'AST': 0.0}, {u'REB': 1.0, u'PTS': 9, u'AST': 1.0}, {u'REB': 2.0, u'PTS': 15, u'AST': 6.0}, {u'REB': 2.0, u'PTS': 12, u'AST': 3.0}, {u'REB': 1.0, u'PTS': 8, u'AST': 7.0}, {u'REB': 4.0, u'PTS': 15, u'AST': 5.0}, {u'REB': 2.0, u'PTS': 14, u'AST': 3.0}, {u'REB': 1.0, u'PTS': 12, u'AST': 2.0}, {u'REB': 2.0, u'PTS': 8, u'AST': 3.0}, {u'REB': 6.0, u'PTS': 13, u'AST': 3.0}, {u'REB': 9.0, u'PTS': 22, u'AST': 0.0}, {u'REB': 2.0, u'PTS': 4, u'AST': 2.0}, {u'REB': 4.0, u'PTS': 7, u'AST': 1.0}, {u'REB': 4.0, u'PTS': 21, u'AST': 3.0}, {u'REB': 6.0, u'PTS': 13, u'AST': 0.0}, {u'REB': 4.0, u'PTS': 11, u'AST': 1.0}, {u'REB': 5.0, u'PTS': 12, u'AST': 3.0}, {u'REB': 10.0, u'PTS': 18, u'AST': 3.0}, {u'REB': 5.0, u'PTS': 25, u'AST': 1.0}, {u'REB': 8.0, u'PTS': 11, u'AST': 4.0}, {u'REB': 4.0, u'PTS': 3, u'AST': 2.0}, {u'REB': 8.0, u'PTS': 11, u'AST': 2.0}, {u'REB': 3.0, u'PTS': 5, u'AST': 3.0}, {u'REB': 9.0, u'PTS': 6, u'AST': 0.0}, {u'REB': 11.0, u'PTS': 8, u'AST': 2.0}, {u'REB': 9.0, u'PTS': 7, u'AST': 5.0}, {u'REB': 4.0, u'PTS': 0, u'AST': 2.0}, {u'REB': 4.0, u'PTS': 15, u'AST': 3.0}, {u'REB': 0.0, u'PTS': 8, u'AST': 1.0}, {u'REB': 3.0, u'PTS': 4, u'AST': 2.0}, {u'REB': 0.0, u'PTS': 6, u'AST': 2.0}, {u'REB': 1.0, u'PTS': 2, u'AST': 1.0}, {u'REB': 0.0, u'PTS': 0, u'AST': 0.0}, {u'REB': 2.0, u'PTS': 2, u'AST': 0.0}, {u'REB': 4.0, u'PTS': 6, u'AST': 2.0}, {u'REB': 3.0, u'PTS': 11, u'AST': 2.0}, {u'REB': 3.0, u'PTS': 8, u'AST': 6.0}, {u'REB': 0.0, u'PTS': 4, u'AST': 0.0}, {u'REB': 0.0, u'PTS': 0, u'AST': 0.0}, {u'REB': 0.0, u'PTS': 19, u'AST': 0.0}, {u'REB': 0.0, u'PTS': 14, u'AST': 0.0}, {u'REB': 0.0, u'PTS': 17, u'AST': 0.0}, {u'REB': 0.0, u'PTS': 25, u'AST': 0.0}, {u'REB': 0.0, u'PTS': 42, u'AST': 0.0}, {u'REB': 0.0, u'PTS': 24, u'AST': 0.0}, {u'REB': 0.0, u'PTS': 22, u'AST': 0.0}, {u'REB': 0.0, u'PTS': 20, u'AST': 0.0}, {u'REB': 0.0, u'PTS': 19, u'AST': 0.0}, {u'REB': 0.0, u'PTS': 31, u'AST': 0.0}, {u'REB': 0.0, u'PTS': 8, u'AST': 0.0}, {u'REB': 0.0, u'PTS': 9, u'AST': 0.0}, {u'REB': 0.0, u'PTS': 8, u'AST': 0.0}, {u'REB': 0.0, u'PTS': 6, u'AST': 0.0}, {u'REB': 0.0, u'PTS': 2, u'AST': 3.0}, {u'REB': 0.0, u'PTS': 0, u'AST': 0.0}, {u'REB': 0.0, u'PTS': 2, u'AST': 0.0}, {u'REB': 0.0, u'PTS': 4, u'AST': 0.0}, {u'REB': 0.0, u'PTS': 4, u'AST': 0.0}, {u'REB': 0.0, u'PTS': 2, u'AST': 0.0}, {u'REB': 0.0, u'PTS': 2, u'AST': 0.0}, {u'REB': 0.0, u'PTS': 6, u'AST': 0.0}, {u'REB': 0.0, u'PTS': 10, u'AST': 0.0}, {u'REB': 0.0, u'PTS': 7, u'AST': 0.0}, {u'REB': 0.0, u'PTS': 6, u'AST': 0.0}, {u'REB': 0.0, u'PTS': 20, u'AST': 0.0}, {u'REB': 0.0, u'PTS': 4, u'AST': 0.0}, {u'REB': 0.0, u'PTS': 19, u'AST': 0.0}, {u'REB': 0.0, u'PTS': 17, u'AST': 0.0}, {u'REB': 0.0, u'PTS': 10, u'AST': 0.0}, {u'REB': 0.0, u'PTS': 13, u'AST': 0.0}, {u'REB': 0.0, u'PTS': 15, u'AST': 0.0}, {u'REB': 0.0, u'PTS': 7, u'AST': 0.0}, {u'REB': 0.0, u'PTS': 13, u'AST': 0.0}, {u'REB': 0.0, u'PTS': 14, u'AST': 0.0}, {u'REB': 0.0, u'PTS': 14, u'AST': 0.0}, {u'REB': 0.0, u'PTS': 18, u'AST': 0.0}, {u'REB': 0.0, u'PTS': 21, u'AST': 0.0}, {u'REB': 0.0, u'PTS': 16, u'AST': 0.0}, {u'REB': 0.0, u'PTS': 12, u'AST': 0.0}, {u'REB': 0.0, u'PTS': 10, u'AST': 0.0}, {u'REB': 0.0, u'PTS': 7, u'AST': 0.0}, {u'REB': 0.0, u'PTS': 3, u'AST': 0.0}, {u'REB': 0.0, u'PTS': 6, u'AST': 0.0}, {u'REB': 0.0, u'PTS': 6, u'AST': 0.0}, {u'REB': 0.0, u'PTS': 2, u'AST': 0.0}, {u'REB': 0.0, u'PTS': 10, u'AST': 0.0}, {u'REB': 0.0, u'PTS': 17, u'AST': 0.0}, {u'REB': 0.0, u'PTS': 27, u'AST': 0.0}, {u'REB': 0.0, u'PTS': 2, u'AST': 0.0}, {u'REB': 0.0, u'PTS': 1, u'AST': 0.0}, {u'REB': 0.0, u'PTS': 3, u'AST': 0.0}, {u'REB': 0.0, u'PTS': 8, u'AST': 0.0}, {u'REB': 0.0, u'PTS': 0, u'AST': 0.0}, {u'REB': 0.0, u'PTS': 0, u'AST': 0.0}, {u'REB': 0.0, u'PTS': 12, u'AST': 0.0}, {u'REB': 0.0, u'PTS': 6, u'AST': 0.0}, {u'REB': 0.0, u'PTS': 2, u'AST': 0.0}, {u'REB': 0.0, u'PTS': 2, u'AST': 0.0}, {u'REB': 0.0, u'PTS': 2, u'AST': 0.0}, {u'REB': 0.0, u'PTS': 0, u'AST': 0.0}, {u'REB': 0.0, u'PTS': 4, u'AST': 0.0}, {u'REB': 0.0, u'PTS': 0, u'AST': 0.0}, {u'REB': 0.0, u'PTS': 2, u'AST': 0.0}, {u'REB': 0.0, u'PTS': 0, u'AST': 0.0}, {u'REB': 0.0, u'PTS': 0, u'AST': 0.0}, {u'REB': 0.0, u'PTS': 0, u'AST': 4.0}, {u'REB': 0.0, u'PTS': 2, u'AST': 0.0}, {u'REB': 0.0, u'PTS': 0, u'AST': 0.0}, {u'REB': 0.0, u'PTS': 2, u'AST': 0.0}, {u'REB': 0.0, u'PTS': 4, u'AST': 0.0}, {u'REB': 0.0, u'PTS': 0, u'AST': 0.0}, {u'REB': 0.0, u'PTS': 4, u'AST': 0.0}, {u'REB': 0.0, u'PTS': 8, u'AST': 0.0}, {u'REB': 0.0, u'PTS': 10, u'AST': 0.0}, {u'REB': 0.0, u'PTS': 0, u'AST': 0.0}, {u'REB': 0.0, u'PTS': 0, u'AST': 0.0}, {u'REB': 0.0, u'PTS': 2, u'AST': 0.0}, {u'REB': 0.0, u'PTS': 21, u'AST': 0.0}, {u'REB': 0.0, u'PTS': 21, u'AST': 0.0}, {u'REB': 0.0, u'PTS': 2, u'AST': 0.0}, {u'REB': 0.0, u'PTS': 10, u'AST': 0.0}, {u'REB': 0.0, u'PTS': 10, u'AST': 5.0}, {u'REB': 0.0, u'PTS': 12, u'AST': 0.0}, {u'REB': 0.0, u'PTS': 6, u'AST': 0.0}, {u'REB': 0.0, u'PTS': 0, u'AST': 0.0}, {u'REB': 0.0, u'PTS': 11, u'AST': 0.0}, {u'REB': 0.0, u'PTS': 2, u'AST': 0.0}, {u'REB': 0.0, u'PTS': 4, u'AST': 0.0}, {u'REB': 0.0, u'PTS': 7, u'AST': 0.0}, {u'REB': 0.0, u'PTS': 4, u'AST': 0.0}, {u'REB': 0.0, u'PTS': 0, u'AST': 0.0}, {u'REB': 0.0, u'PTS': 6, u'AST': 0.0}, {u'REB': 0.0, u'PTS': 0, u'AST': 0.0}, {u'REB': 0.0, u'PTS': 6, u'AST': 0.0}, {u'REB': 0.0, u'PTS': 8, u'AST': 0.0}, {u'REB': 0.0, u'PTS': 4, u'AST': 0.0}, {u'REB': 0.0, u'PTS': 4, u'AST': 0.0}, {u'REB': 0.0, u'PTS': 8, u'AST': 0.0}, {u'REB': 0.0, u'PTS': 11, u'AST': 0.0}, {u'REB': 0.0, u'PTS': 8, u'AST': 0.0}, {u'REB': 0.0, u'PTS': 18, u'AST': 0.0}, {u'REB': 0.0, u'PTS': 26, u'AST': 0.0}, {u'REB': 0.0, u'PTS': 24, u'AST': 0.0}, {u'REB': 0.0, u'PTS': 30, u'AST': 0.0}, {u'REB': 0.0, u'PTS': 27, u'AST': 0.0}, {u'REB': 0.0, u'PTS': 19, u'AST': 0.0}, {u'REB': 0.0, u'PTS': 16, u'AST': 0.0}, {u'REB': 0.0, u'PTS': 22, u'AST': 0.0}, {u'REB': 0.0, u'PTS': 39, u'AST': 0.0}, {u'REB': 0.0, u'PTS': 9, u'AST': 7.0}, {u'REB': 0.0, u'PTS': 12, u'AST': 0.0}, {u'REB': 0.0, u'PTS': 9, u'AST': 0.0}, {u'REB': 0.0, u'PTS': 6, u'AST': 0.0}, {u'REB': 0.0, u'PTS': 2, u'AST': 0.0}, {u'REB': 0.0, u'PTS': 2, u'AST': 0.0}, {u'REB': 0.0, u'PTS': 2, u'AST': 10.0}, {u'REB': 0.0, u'PTS': 13, u'AST': 8.0}, {u'REB': 0.0, u'PTS': 15, u'AST': 0.0}, {u'REB': 0.0, u'PTS': 3, u'AST': 5.0}, {u'REB': 1.0, u'PTS': 4, u'AST': 0.0}, {u'REB': 0.0, u'PTS': 2, u'AST': 1.0}, {u'REB': 1.0, u'PTS': 10, u'AST': 1.0}, {u'REB': 5.0, u'PTS': 9, u'AST': 1.0}, {u'REB': 2.0, u'PTS': 9, u'AST': 2.0}, {u'REB': 3.0, u'PTS': 14, u'AST': 2.0}, {u'REB': 4.0, u'PTS': 7, u'AST': 1.0}, {u'REB': 1.0, u'PTS': 3, u'AST': 1.0}, {u'REB': 2.0, u'PTS': 3, u'AST': 1.0}, {u'REB': 1.0, u'PTS': 4, u'AST': 0.0}, {u'REB': 0.0, u'PTS': 0, u'AST': 0.0}, {u'REB': 0.0, u'PTS': 1, u'AST': 0.0}, {u'REB': 0.0, u'PTS': 11, u'AST': 0.0}, {u'REB': 0.0, u'PTS': 3, u'AST': 0.0}, {u'REB': 0.0, u'PTS': 6, u'AST': 0.0}, {u'REB': 0.0, u'PTS': 8, u'AST': 0.0}, {u'REB': 0.0, u'PTS': 4, u'AST': 0.0}, {u'REB': 0.0, u'PTS': 2, u'AST': 0.0}, {u'REB': 0.0, u'PTS': 6, u'AST': 0.0}, {u'REB': 0.0, u'PTS': 0, u'AST': 0.0}, {u'REB': 0.0, u'PTS': 8, u'AST': 0.0}, {u'REB': 0.0, u'PTS': 11, u'AST': 0.0}, {u'REB': 0.0, u'PTS': 5, u'AST': 0.0}, {u'REB': 0.0, u'PTS': 2, u'AST': 0.0}, {u'REB': 0.0, u'PTS': 6, u'AST': 0.0}, {u'REB': 0.0, u'PTS': 7, u'AST': 0.0}, {u'REB': 0.0, u'PTS': 2, u'AST': 0.0}, {u'REB': 0.0, u'PTS': 8, u'AST': 0.0}, {u'REB': 0.0, u'PTS': 9, u'AST': 0.0}, {u'REB': 0.0, u'PTS': 10, u'AST': 0.0}, {u'REB': 0.0, u'PTS': 6, u'AST': 0.0}, {u'REB': 0.0, u'PTS': 2, u'AST': 0.0}, {u'REB': 0.0, u'PTS': 4, u'AST': 0.0}, {u'REB': 0.0, u'PTS': 6, u'AST': 0.0}, {u'REB': 0.0, u'PTS': 12, u'AST': 0.0}, {u'REB': 0.0, u'PTS': 2, u'AST': 0.0}, {u'REB': 0.0, u'PTS': 6, u'AST': 0.0}, {u'REB': 0.0, u'PTS': 17, u'AST': 0.0}, {u'REB': 0.0, u'PTS': 9, u'AST': 0.0}, {u'REB': 0.0, u'PTS': 13, u'AST': 0.0}, {u'REB': 0.0, u'PTS': 20, u'AST': 0.0}, {u'REB': 0.0, u'PTS': 12, u'AST': 0.0}, {u'REB': 0.0, u'PTS': 10, u'AST': 0.0}, {u'REB': 0.0, u'PTS': 14, u'AST': 0.0}, {u'REB': 0.0, u'PTS': 23, u'AST': 0.0}, {u'REB': 0.0, u'PTS': 16, u'AST': 0.0}, {u'REB': 0.0, u'PTS': 7, u'AST': 0.0}, {u'REB': 0.0, u'PTS': 30, u'AST': 0.0}, {u'REB': 0.0, u'PTS': 16, u'AST': 0.0}, {u'REB': 0.0, u'PTS': 33, u'AST': 0.0}, {u'REB': 0.0, u'PTS': 8, u'AST': 0.0}, {u'REB': 0.0, u'PTS': 13, u'AST': 0.0}, {u'REB': 0.0, u'PTS': 8, u'AST': 0.0}, {u'REB': 0.0, u'PTS': 24, u'AST': 0.0}, {u'REB': 0.0, u'PTS': 2, u'AST': 0.0}, {u'REB': 0.0, u'PTS': 12, u'AST': 0.0}, {u'REB': 0.0, u'PTS': 11, u'AST': 0.0}, {u'REB': 0.0, u'PTS': 14, u'AST': 0.0}, {u'REB': 0.0, u'PTS': 15, u'AST': 0.0}, {u'REB': 0.0, u'PTS': 12, u'AST': 0.0}, {u'REB': 0.0, u'PTS': 2, u'AST': 0.0}, {u'REB': 0.0, u'PTS': 4, u'AST': 0.0}, {u'REB': 0.0, u'PTS': 4, u'AST': 0.0}, {u'REB': 0.0, u'PTS': 15, u'AST': 0.0}, {u'REB': 0.0, u'PTS': 10, u'AST': 0.0}, {u'REB': 0.0, u'PTS': 14, u'AST': 0.0}, {u'REB': 0.0, u'PTS': 10, u'AST': 0.0}, {u'REB': 0.0, u'PTS': 2, u'AST': 0.0}, {u'REB': 0.0, u'PTS': 10, u'AST': 0.0}, {u'REB': 0.0, u'PTS': 0, u'AST': 0.0}, {u'REB': 0.0, u'PTS': 4, u'AST': 0.0}, {u'REB': 0.0, u'PTS': 6, u'AST': 0.0}, {u'REB': 0.0, u'PTS': 13, u'AST': 0.0}, {u'REB': 0.0, u'PTS': 14, u'AST': 0.0}, {u'REB': 0.0, u'PTS': 12, u'AST': 0.0}, {u'REB': 0.0, u'PTS': 4, u'AST': 0.0}, {u'REB': 0.0, u'PTS': 4, u'AST': 0.0}, {u'REB': 0.0, u'PTS': 18, u'AST': 0.0}, {u'REB': 0.0, u'PTS': 23, u'AST': 0.0}, {u'REB': 0.0, u'PTS': 10, u'AST': 0.0}, {u'REB': 0.0, u'PTS': 18, u'AST': 0.0}, {u'REB': 0.0, u'PTS': 21, u'AST': 0.0}, {u'REB': 0.0, u'PTS': 22, u'AST': 0.0}, {u'REB': 0.0, u'PTS': 23, u'AST': 0.0}, {u'REB': 0.0, u'PTS': 32, u'AST': 0.0}, {u'REB': 0.0, u'PTS': 22, u'AST': 0.0}, {u'REB': 0.0, u'PTS': 17, u'AST': 0.0}, {u'REB': 0.0, u'PTS': 16, u'AST': 0.0}, {u'REB': 0.0, u'PTS': 15, u'AST': 0.0}, {u'REB': 0.0, u'PTS': 20, u'AST': 4.0}, {u'REB': 0.0, u'PTS': 0, u'AST': 0.0}, {u'REB': 0.0, u'PTS': 2, u'AST': 0.0}, {u'REB': 0.0, u'PTS': 2, u'AST': 0.0}, {u'REB': 0.0, u'PTS': 3, u'AST': 0.0}, {u'REB': 0.0, u'PTS': 10, u'AST': 0.0}, {u'REB': 0.0, u'PTS': 11, u'AST': 0.0}, {u'REB': 0.0, u'PTS': 16, u'AST': 0.0}, {u'REB': 0.0, u'PTS': 7, u'AST': 0.0}, {u'REB': 0.0, u'PTS': 14, u'AST': 0.0}, {u'REB': 0.0, u'PTS': 12, u'AST': 0.0}, {u'REB': 0.0, u'PTS': 11, u'AST': 0.0}, {u'REB': 0.0, u'PTS': 23, u'AST': 0.0}, {u'REB': 0.0, u'PTS': 8, u'AST': 0.0}, {u'REB': 0.0, u'PTS': 21, u'AST': 0.0}, {u'REB': 0.0, u'PTS': 18, u'AST': 0.0}, {u'REB': 0.0, u'PTS': 20, u'AST': 0.0}, {u'REB': 0.0, u'PTS': 5, u'AST': 0.0}, {u'REB': 0.0, u'PTS': 10, u'AST': 0.0}, {u'REB': 0.0, u'PTS': 16, u'AST': 0.0}, {u'REB': 0.0, u'PTS': 18, u'AST': 0.0}, {u'REB': 0.0, u'PTS': 31, u'AST': 0.0}, {u'REB': 0.0, u'PTS': 28, u'AST': 0.0}, {u'REB': 0.0, u'PTS': 25, u'AST': 8.0}, {u'REB': 0.0, u'PTS': 32, u'AST': 0.0}, {u'REB': 0.0, u'PTS': 12, u'AST': 0.0}, {u'REB': 0.0, u'PTS': 14, u'AST': 0.0}, {u'REB': 0.0, u'PTS': 14, u'AST': 0.0}, {u'REB': 0.0, u'PTS': 28, u'AST': 0.0}, {u'REB': 0.0, u'PTS': 17, u'AST': 0.0}, {u'REB': 0.0, u'PTS': 30, u'AST': 0.0}, {u'REB': 0.0, u'PTS': 5, u'AST': 0.0}, {u'REB': 0.0, u'PTS': 2, u'AST': 0.0}, {u'REB': 0.0, u'PTS': 7, u'AST': 0.0}, {u'REB': 0.0, u'PTS': 4, u'AST': 0.0}, {u'REB': 0.0, u'PTS': 15, u'AST': 0.0}, {u'REB': 0.0, u'PTS': 13, u'AST': 0.0}, {u'REB': 0.0, u'PTS': 32, u'AST': 0.0}, {u'REB': 0.0, u'PTS': 9, u'AST': 0.0}, {u'REB': 0.0, u'PTS': 10, u'AST': 0.0}, {u'REB': 0.0, u'PTS': 10, u'AST': 0.0}, {u'REB': 0.0, u'PTS': 15, u'AST': 0.0}, {u'REB': 0.0, u'PTS': 19, u'AST': 0.0}, {u'REB': 0.0, u'PTS': 10, u'AST': 4.0}, {u'REB': 0.0, u'PTS': 21, u'AST': 0.0}, {u'REB': 0.0, u'PTS': 21, u'AST': 0.0}, {u'REB': 0.0, u'PTS': 15, u'AST': 0.0}, {u'REB': 0.0, u'PTS': 22, u'AST': 0.0}, {u'REB': 0.0, u'PTS': 9, u'AST': 0.0}, {u'REB': 0.0, u'PTS': 14, u'AST': 0.0}, {u'REB': 0.0, u'PTS': 17, u'AST': 0.0}, {u'REB': 0.0, u'PTS': 6, u'AST': 0.0}, {u'REB': 0.0, u'PTS': 6, u'AST': 0.0}, {u'REB': 0.0, u'PTS': 15, u'AST': 0.0}, {u'REB': 0.0, u'PTS': 16, u'AST': 0.0}, {u'REB': 0.0, u'PTS': 15, u'AST': 0.0}, {u'REB': 0.0, u'PTS': 5, u'AST': 0.0}, {u'REB': 0.0, u'PTS': 8, u'AST': 0.0}, {u'REB': 0.0, u'PTS': 4, u'AST': 0.0}, {u'REB': 0.0, u'PTS': 6, u'AST': 0.0}, {u'REB': 0.0, u'PTS': 4, u'AST': 0.0}, {u'REB': 0.0, u'PTS': 0, u'AST': 0.0}, {u'REB': 0.0, u'PTS': 2, u'AST': 0.0}, {u'REB': 0.0, u'PTS': 10, u'AST': 0.0}, {u'REB': 0.0, u'PTS': 10, u'AST': 0.0}, {u'REB': 0.0, u'PTS': 10, u'AST': 0.0}, {u'REB': 0.0, u'PTS': 4, u'AST': 0.0}, {u'REB': 0.0, u'PTS': 2, u'AST': 0.0}, {u'REB': 0.0, u'PTS': 21, u'AST': 0.0}, {u'REB': 0.0, u'PTS': 14, u'AST': 0.0}, {u'REB': 0.0, u'PTS': 14, u'AST': 0.0}, {u'REB': 0.0, u'PTS': 12, u'AST': 0.0}, {u'REB': 0.0, u'PTS': 5, u'AST': 0.0}, {u'REB': 0.0, u'PTS': 0, u'AST': 0.0}, {u'REB': 0.0, u'PTS': 0, u'AST': 0.0}, {u'REB': 0.0, u'PTS': 0, u'AST': 0.0}, {u'REB': 0.0, u'PTS': 1, u'AST': 0.0}, {u'REB': 0.0, u'PTS': 15, u'AST': 0.0}, {u'REB': 0.0, u'PTS': 11, u'AST': 0.0}, {u'REB': 0.0, u'PTS': 10, u'AST': 0.0}, {u'REB': 0.0, u'PTS': 16, u'AST': 0.0}, {u'REB': 8.0, u'PTS': 13, u'AST': 4.0}, {u'REB': 3.0, u'PTS': 26, u'AST': 5.0}, {u'REB': 2.0, u'PTS': 16, u'AST': 10.0}, {u'REB': 9.0, u'PTS': 18, u'AST': 3.0}, {u'REB': 7.0, u'PTS': 25, u'AST': 12.0}, {u'REB': 5.0, u'PTS': 21, u'AST': 8.0}, {u'REB': 5.0, u'PTS': 13, u'AST': 3.0}, {u'REB': 5.0, u'PTS': 9, u'AST': 6.0}, {u'REB': 9.0, u'PTS': 21, u'AST': 8.0}, {u'REB': 7.0, u'PTS': 17, u'AST': 10.0}, {u'REB': 0.0, u'PTS': 15, u'AST': 6.0}, {u'REB': 2.0, u'PTS': 13, u'AST': 4.0}, {u'REB': 3.0, u'PTS': 18, u'AST': 5.0}, {u'REB': 2.0, u'PTS': 12, u'AST': 4.0}, {u'REB': 5.0, u'PTS': 21, u'AST': 3.0}, {u'REB': 4.0, u'PTS': 21, u'AST': 10.0}, {u'REB': 3.0, u'PTS': 18, u'AST': 3.0}, {u'REB': 3.0, u'PTS': 10, u'AST': 10.0}, {u'REB': 6.0, u'PTS': 4, u'AST': 7.0}, {u'REB': 5.0, u'PTS': 24, u'AST': 7.0}, {u'REB': 0.0, u'PTS': 0, u'AST': 0.0}, {u'REB': 3.0, u'PTS': 0, u'AST': 1.0}, {u'REB': 5.0, u'PTS': 0, u'AST': 0.0}, {u'REB': 2.0, u'PTS': 0, u'AST': 0.0}, {u'REB': 3.0, u'PTS': 4, u'AST': 0.0}, {u'REB': 1.0, u'PTS': 2, u'AST': 0.0}, {u'REB': 4.0, u'PTS': 5, u'AST': 0.0}, {u'REB': 6.0, u'PTS': 6, u'AST': 0.0}, {u'REB': 1.0, u'PTS': 0, u'AST': 0.0}, {u'REB': 0.0, u'PTS': 0, u'AST': 0.0}, {u'REB': 3.0, u'PTS': 4, u'AST': 1.0}, {u'REB': 0.0, u'PTS': 0, u'AST': 0.0}, {u'REB': 5.0, u'PTS': 4, u'AST': 0.0}, {u'REB': 3.0, u'PTS': 6, u'AST': 3.0}, {u'REB': 0.0, u'PTS': 3, u'AST': 1.0}, {u'REB': 3.0, u'PTS': 2, u'AST': 0.0}, {u'REB': 4.0, u'PTS': 2, u'AST': 0.0}, {u'REB': 2.0, u'PTS': 5, u'AST': 1.0}, {u'REB': 2.0, u'PTS': 2, u'AST': 1.0}, {u'REB': 1.0, u'PTS': 4, u'AST': 0.0}, {u'REB': 0.0, u'PTS': 0, u'AST': 0.0}, {u'REB': 4.0, u'PTS': 2, u'AST': 0.0}, {u'REB': 11.0, u'PTS': 10, u'AST': 1.0}, {u'REB': 11.0, u'PTS': 0, u'AST': 1.0}, {u'REB': 0.0, u'PTS': 2, u'AST': 1.0}, {u'REB': 1.0, u'PTS': 5, u'AST': 0.0}, {u'REB': 2.0, u'PTS': 0, u'AST': 1.0}, {u'REB': 3.0, u'PTS': 4, u'AST': 0.0}, {u'REB': 1.0, u'PTS': 1, u'AST': 0.0}, {u'REB': 10.0, u'PTS': 8, u'AST': 2.0}, {u'REB': 8.0, u'PTS': 10, u'AST': 0.0}, {u'REB': 4.0, u'PTS': 7, u'AST': 1.0}, {u'REB': 8.0, u'PTS': 13, u'AST': 1.0}, {u'REB': 5.0, u'PTS': 12, u'AST': 1.0}, {u'REB': 3.0, u'PTS': 12, u'AST': 2.0}, {u'REB': 6.0, u'PTS': 8, u'AST': 0.0}, {u'REB': 8.0, u'PTS': 10, u'AST': 0.0}, {u'REB': 3.0, u'PTS': 6, u'AST': 0.0}, {u'REB': 0.0, u'PTS': 0, u'AST': 0.0}, {u'REB': 2.0, u'PTS': 2, u'AST': 0.0}, {u'REB': 3.0, u'PTS': 20, u'AST': 2.0}, {u'REB': 0.0, u'PTS': 0, u'AST': 0.0}, {u'REB': 6.0, u'PTS': 19, u'AST': 5.0}, {u'REB': 4.0, u'PTS': 16, u'AST': 8.0}, {u'REB': 1.0, u'PTS': 3, u'AST': 2.0}, {u'REB': 3.0, u'PTS': 9, u'AST': 2.0}, {u'REB': 10.0, u'PTS': 16, u'AST': 8.0}, {u'REB': 3.0, u'PTS': 7, u'AST': 1.0}, {u'REB': 2.0, u'PTS': 15, u'AST': 2.0}, {u'REB': 5.0, u'PTS': 15, u'AST': 2.0}, {u'REB': 4.0, u'PTS': 6, u'AST': 3.0}, {u'REB': 4.0, u'PTS': 13, u'AST': 3.0}, {u'REB': 1.0, u'PTS': 1, u'AST': 2.0}, {u'REB': 2.0, u'PTS': 0, u'AST': 7.0}, {u'REB': 5.0, u'PTS': 5, u'AST': 7.0}, {u'REB': 4.0, u'PTS': 8, u'AST': 1.0}, {u'REB': 6.0, u'PTS': 5, u'AST': 3.0}, {u'REB': 4.0, u'PTS': 6, u'AST': 1.0}, {u'REB': 1.0, u'PTS': 3, u'AST': 1.0}, {u'REB': 0.0, u'PTS': 0, u'AST': 0.0}, {u'REB': 2.0, u'PTS': 2, u'AST': 0.0}, {u'REB': 3.0, u'PTS': 8, u'AST': 1.0}, {u'REB': 5.0, u'PTS': 15, u'AST': 2.0}, {u'REB': 6.0, u'PTS': 4, u'AST': 0.0}, {u'REB': 6.0, u'PTS': 11, u'AST': 0.0}, {u'REB': 10.0, u'PTS': 18, u'AST': 0.0}, {u'REB': 7.0, u'PTS': 20, u'AST': 2.0}, {u'REB': 5.0, u'PTS': 2, u'AST': 1.0}, {u'REB': 1.0, u'PTS': 4, u'AST': 1.0}, {u'REB': 9.0, u'PTS': 9, u'AST': 1.0}, {u'REB': 5.0, u'PTS': 18, u'AST': 1.0}, {u'REB': 5.0, u'PTS': 27, u'AST': 1.0}, {u'REB': 6.0, u'PTS': 19, u'AST': 2.0}, {u'REB': 1.0, u'PTS': 10, u'AST': 0.0}, {u'REB': 5.0, u'PTS': 18, u'AST': 1.0}, {u'REB': 3.0, u'PTS': 21, u'AST': 2.0}, {u'REB': 1.0, u'PTS': 16, u'AST': 1.0}, {u'REB': 2.0, u'PTS': 11, u'AST': 2.0}, {u'REB': 5.0, u'PTS': 12, u'AST': 2.0}, {u'REB': 6.0, u'PTS': 25, u'AST': 4.0}, {u'REB': 10.0, u'PTS': 9, u'AST': 1.0}, {u'REB': 13.0, u'PTS': 13, u'AST': 3.0}, {u'REB': 14.0, u'PTS': 7, u'AST': 2.0}, {u'REB': 8.0, u'PTS': 8, u'AST': 0.0}, {u'REB': 10.0, u'PTS': 9, u'AST': 1.0}, {u'REB': 8.0, u'PTS': 11, u'AST': 1.0}, {u'REB': 8.0, u'PTS': 6, u'AST': 2.0}, {u'REB': 7.0, u'PTS': 6, u'AST': 2.0}, {u'REB': 14.0, u'PTS': 8, u'AST': 0.0}, {u'REB': 6.0, u'PTS': 12, u'AST': 1.0}, {u'REB': 4.0, u'PTS': 2, u'AST': 0.0}, {u'REB': 0.0, u'PTS': 0, u'AST': 0.0}, {u'REB': 3.0, u'PTS': 0, u'AST': 1.0}, {u'REB': 8.0, u'PTS': 16, u'AST': 3.0}, {u'REB': 0.0, u'PTS': 2, u'AST': 1.0}, {u'REB': 0.0, u'PTS': 0, u'AST': 0.0}, {u'REB': 7.0, u'PTS': 5, u'AST': 2.0}, {u'REB': 4.0, u'PTS': 2, u'AST': 0.0}, {u'REB': 5.0, u'PTS': 2, u'AST': 4.0}, {u'REB': 0.0, u'PTS': 0, u'AST': 1.0}, {u'REB': 12.0, u'PTS': 12, u'AST': 1.0}, {u'REB': 5.0, u'PTS': 10, u'AST': 3.0}, {u'REB': 8.0, u'PTS': 3, u'AST': 1.0}, {u'REB': 5.0, u'PTS': 15, u'AST': 0.0}, {u'REB': 4.0, u'PTS': 16, u'AST': 1.0}, {u'REB': 7.0, u'PTS': 18, u'AST': 1.0}, {u'REB': 2.0, u'PTS': 16, u'AST': 4.0}, {u'REB': 8.0, u'PTS': 12, u'AST': 1.0}, {u'REB': 6.0, u'PTS': 10, u'AST': 2.0}, {u'REB': 8.0, u'PTS': 10, u'AST': 0.0}, {u'REB': 4.0, u'PTS': 11, u'AST': 9.0}, {u'REB': 4.0, u'PTS': 18, u'AST': 1.0}, {u'REB': 6.0, u'PTS': 26, u'AST': 3.0}, {u'REB': 10.0, u'PTS': 26, u'AST': 6.0}, {u'REB': 9.0, u'PTS': 16, u'AST': 6.0}, {u'REB': 4.0, u'PTS': 23, u'AST': 8.0}, {u'REB': 3.0, u'PTS': 25, u'AST': 9.0}, {u'REB': 0.0, u'PTS': 6, u'AST': 1.0}, {u'REB': 3.0, u'PTS': 25, u'AST': 5.0}, {u'REB': 2.0, u'PTS': 15, u'AST': 6.0}, {u'REB': 4.0, u'PTS': 13, u'AST': 4.0}, {u'REB': 2.0, u'PTS': 6, u'AST': 3.0}, {u'REB': 2.0, u'PTS': 6, u'AST': 4.0}, {u'REB': 5.0, u'PTS': 13, u'AST': 4.0}, {u'REB': 10.0, u'PTS': 19, u'AST': 6.0}, {u'REB': 1.0, u'PTS': 13, u'AST': 4.0}, {u'REB': 2.0, u'PTS': 14, u'AST': 2.0}, {u'REB': 5.0, u'PTS': 10, u'AST': 4.0}, {u'REB': 1.0, u'PTS': 14, u'AST': 2.0}, {u'REB': 3.0, u'PTS': 15, u'AST': 3.0}, {u'REB': 9.0, u'PTS': 12, u'AST': 2.0}, {u'REB': 3.0, u'PTS': 9, u'AST': 1.0}, {u'REB': 9.0, u'PTS': 6, u'AST': 1.0}, {u'REB': 4.0, u'PTS': 8, u'AST': 1.0}, {u'REB': 6.0, u'PTS': 4, u'AST': 1.0}, {u'REB': 4.0, u'PTS': 9, u'AST': 1.0}, {u'REB': 4.0, u'PTS': 4, u'AST': 1.0}, {u'REB': 5.0, u'PTS': 9, u'AST': 0.0}, {u'REB': 4.0, u'PTS': 2, u'AST': 0.0}, {u'REB': 5.0, u'PTS': 3, u'AST': 0.0}, {u'REB': 8.0, u'PTS': 8, u'AST': 1.0}, {u'REB': 8.0, u'PTS': 10, u'AST': 1.0}, {u'REB': 3.0, u'PTS': 0, u'AST': 1.0}, {u'REB': 5.0, u'PTS': 1, u'AST': 0.0}, {u'REB': 9.0, u'PTS': 25, u'AST': 2.0}, {u'REB': 7.0, u'PTS': 5, u'AST': 1.0}, {u'REB': 13.0, u'PTS': 15, u'AST': 0.0}, {u'REB': 6.0, u'PTS': 14, u'AST': 0.0}, {u'REB': 10.0, u'PTS': 14, u'AST': 1.0}, {u'REB': 10.0, u'PTS': 17, u'AST': 2.0}, {u'REB': 0.0, u'PTS': 2, u'AST': 0.0}, {u'REB': 3.0, u'PTS': 5, u'AST': 0.0}, {u'REB': 3.0, u'PTS': 8, u'AST': 0.0}, {u'REB': 2.0, u'PTS': 0, u'AST': 2.0}, {u'REB': 1.0, u'PTS': 2, u'AST': 0.0}, {u'REB': 1.0, u'PTS': 0, u'AST': 1.0}, {u'REB': 0.0, u'PTS': 0, u'AST': 2.0}, {u'REB': 0.0, u'PTS': 0, u'AST': 1.0}, {u'REB': 3.0, u'PTS': 6, u'AST': 1.0}, {u'REB': 3.0, u'PTS': 2, u'AST': 0.0}, {u'REB': 14.0, u'PTS': 20, u'AST': 4.0}, {u'REB': 10.0, u'PTS': 14, u'AST': 3.0}, {u'REB': 9.0, u'PTS': 16, u'AST': 0.0}, {u'REB': 8.0, u'PTS': 17, u'AST': 1.0}, {u'REB': 8.0, u'PTS': 11, u'AST': 3.0}, {u'REB': 18.0, u'PTS': 18, u'AST': 4.0}, {u'REB': 3.0, u'PTS': 11, u'AST': 1.0}, {u'REB': 17.0, u'PTS': 26, u'AST': 2.0}, {u'REB': 8.0, u'PTS': 12, u'AST': 0.0}, {u'REB': 15.0, u'PTS': 44, u'AST': 7.0}, {u'REB': 2.0, u'PTS': 5, u'AST': 0.0}, {u'REB': 2.0, u'PTS': 2, u'AST': 8.0}, {u'REB': 3.0, u'PTS': 6, u'AST': 2.0}, {u'REB': 4.0, u'PTS': 9, u'AST': 1.0}, {u'REB': 5.0, u'PTS': 7, u'AST': 8.0}, {u'REB': 2.0, u'PTS': 8, u'AST': 1.0}, {u'REB': 3.0, u'PTS': 4, u'AST': 2.0}, {u'REB': 2.0, u'PTS': 5, u'AST': 0.0}, {u'REB': 3.0, u'PTS': 24, u'AST': 3.0}, {u'REB': 4.0, u'PTS': 25, u'AST': 1.0}, {u'REB': 2.0, u'PTS': 14, u'AST': 7.0}, {u'REB': 2.0, u'PTS': 12, u'AST': 4.0}, {u'REB': 1.0, u'PTS': 6, u'AST': 4.0}, {u'REB': 0.0, u'PTS': 0, u'AST': 0.0}, {u'REB': 4.0, u'PTS': 14, u'AST': 2.0}, {u'REB': 5.0, u'PTS': 14, u'AST': 7.0}, {u'REB': 0.0, u'PTS': 13, u'AST': 7.0}, {u'REB': 6.0, u'PTS': 12, u'AST': 8.0}, {u'REB': 4.0, u'PTS': 18, u'AST': 6.0}, {u'REB': 7.0, u'PTS': 11, u'AST': 5.0}, {u'REB': 5.0, u'PTS': 8, u'AST': 1.0}, {u'REB': 5.0, u'PTS': 6, u'AST': 1.0}, {u'REB': 3.0, u'PTS': 8, u'AST': 0.0}, {u'REB': 9.0, u'PTS': 9, u'AST': 1.0}, {u'REB': 0.0, u'PTS': 2, u'AST': 1.0}, {u'REB': 2.0, u'PTS': 6, u'AST': 1.0}, {u'REB': 3.0, u'PTS': 17, u'AST': 0.0}, {u'REB': 0.0, u'PTS': 2, u'AST': 1.0}, {u'REB': 7.0, u'PTS': 7, u'AST': 0.0}, {u'REB': 1.0, u'PTS': 1, u'AST': 0.0}, {u'REB': 1.0, u'PTS': 2, u'AST': 0.0}, {u'REB': 1.0, u'PTS': 0, u'AST': 0.0}, {u'REB': 0.0, u'PTS': 0, u'AST': 1.0}, {u'REB': 1.0, u'PTS': 0, u'AST': 0.0}, {u'REB': 0.0, u'PTS': 2, u'AST': 1.0}, {u'REB': 6.0, u'PTS': 11, u'AST': 1.0}, {u'REB': 3.0, u'PTS': 10, u'AST': 6.0}, {u'REB': 1.0, u'PTS': 2, u'AST': 5.0}, {u'REB': 2.0, u'PTS': 6, u'AST': 1.0}, {u'REB': 1.0, u'PTS': 5, u'AST': 3.0}, {u'REB': 1.0, u'PTS': 14, u'AST': 9.0}, {u'REB': 5.0, u'PTS': 28, u'AST': 9.0}, {u'REB': 10.0, u'PTS': 19, u'AST': 13.0}, {u'REB': 4.0, u'PTS': 13, u'AST': 11.0}, {u'REB': 2.0, u'PTS': 16, u'AST': 6.0}, {u'REB': 2.0, u'PTS': 29, u'AST': 13.0}, {u'REB': 3.0, u'PTS': 25, u'AST': 6.0}, {u'REB': 1.0, u'PTS': 10, u'AST': 7.0}, {u'REB': 4.0, u'PTS': 13, u'AST': 7.0}, {u'REB': 4.0, u'PTS': 13, u'AST': 10.0}, {u'REB': 3.0, u'PTS': 4, u'AST': 2.0}, {u'REB': 3.0, u'PTS': 8, u'AST': 2.0}, {u'REB': 4.0, u'PTS': 8, u'AST': 2.0}, {u'REB': 2.0, u'PTS': 3, u'AST': 3.0}, {u'REB': 1.0, u'PTS': 0, u'AST': 0.0}, {u'REB': 2.0, u'PTS': 2, u'AST': 1.0}, {u'REB': 3.0, u'PTS': 10, u'AST': 0.0}, {u'REB': 2.0, u'PTS': 4, u'AST': 3.0}, {u'REB': 0.0, u'PTS': 0, u'AST': 0.0}, {u'REB': 7.0, u'PTS': 13, u'AST': 1.0}, {u'REB': 3.0, u'PTS': 6, u'AST': 7.0}, {u'REB': 4.0, u'PTS': 14, u'AST': 7.0}, {u'REB': 5.0, u'PTS': 20, u'AST': 4.0}, {u'REB': 4.0, u'PTS': 13, u'AST': 4.0}, {u'REB': 0.0, u'PTS': 20, u'AST': 5.0}, {u'REB': 3.0, u'PTS': 26, u'AST': 6.0}, {u'REB': 0.0, u'PTS': 21, u'AST': 4.0}, {u'REB': 4.0, u'PTS': 25, u'AST': 7.0}, {u'REB': 8.0, u'PTS': 18, u'AST': 5.0}, {u'REB': 2.0, u'PTS': 13, u'AST': 3.0}, {u'REB': 7.0, u'PTS': 21, u'AST': 0.0}, {u'REB': 4.0, u'PTS': 8, u'AST': 1.0}, {u'REB': 11.0, u'PTS': 8, u'AST': 1.0}, {u'REB': 11.0, u'PTS': 28, u'AST': 1.0}, {u'REB': 6.0, u'PTS': 8, u'AST': 0.0}, {u'REB': 11.0, u'PTS': 23, u'AST': 2.0}, {u'REB': 8.0, u'PTS': 13, u'AST': 0.0}, {u'REB': 4.0, u'PTS': 11, u'AST': 0.0}, {u'REB': 7.0, u'PTS': 11, u'AST': 2.0}, {u'REB': 5.0, u'PTS': 15, u'AST': 1.0}, {u'REB': 3.0, u'PTS': 23, u'AST': 11.0}, {u'REB': 3.0, u'PTS': 20, u'AST': 6.0}, {u'REB': 3.0, u'PTS': 12, u'AST': 2.0}, {u'REB': 2.0, u'PTS': 22, u'AST': 9.0}, {u'REB': 5.0, u'PTS': 27, u'AST': 5.0}, {u'REB': 2.0, u'PTS': 16, u'AST': 3.0}, {u'REB': 3.0, u'PTS': 21, u'AST': 7.0}, {u'REB': 0.0, u'PTS': 24, u'AST': 3.0}, {u'REB': 4.0, u'PTS': 28, u'AST': 8.0}, {u'REB': 6.0, u'PTS': 13, u'AST': 7.0}]\n"
       ]
      },
      {
       "html": [
        "<div style=\"max-height:1000px;max-width:1500px;overflow:auto;\">\n",
        "<table border=\"1\" class=\"dataframe\">\n",
        "  <thead>\n",
        "    <tr style=\"text-align: right;\">\n",
        "      <th></th>\n",
        "      <th>AST</th>\n",
        "      <th>PTS</th>\n",
        "      <th>REB</th>\n",
        "    </tr>\n",
        "  </thead>\n",
        "  <tbody>\n",
        "    <tr>\n",
        "      <th>0   </th>\n",
        "      <td>  0</td>\n",
        "      <td>  2</td>\n",
        "      <td>  0</td>\n",
        "    </tr>\n",
        "    <tr>\n",
        "      <th>1   </th>\n",
        "      <td>  0</td>\n",
        "      <td> 12</td>\n",
        "      <td>  0</td>\n",
        "    </tr>\n",
        "    <tr>\n",
        "      <th>2   </th>\n",
        "      <td>  0</td>\n",
        "      <td>  0</td>\n",
        "      <td>  0</td>\n",
        "    </tr>\n",
        "    <tr>\n",
        "      <th>3   </th>\n",
        "      <td>  0</td>\n",
        "      <td>  2</td>\n",
        "      <td>  0</td>\n",
        "    </tr>\n",
        "    <tr>\n",
        "      <th>4   </th>\n",
        "      <td>  0</td>\n",
        "      <td> 10</td>\n",
        "      <td>  0</td>\n",
        "    </tr>\n",
        "    <tr>\n",
        "      <th>5   </th>\n",
        "      <td>  0</td>\n",
        "      <td> 20</td>\n",
        "      <td>  0</td>\n",
        "    </tr>\n",
        "    <tr>\n",
        "      <th>6   </th>\n",
        "      <td>  0</td>\n",
        "      <td>  0</td>\n",
        "      <td>  0</td>\n",
        "    </tr>\n",
        "    <tr>\n",
        "      <th>7   </th>\n",
        "      <td>  0</td>\n",
        "      <td>  6</td>\n",
        "      <td>  0</td>\n",
        "    </tr>\n",
        "    <tr>\n",
        "      <th>8   </th>\n",
        "      <td>  0</td>\n",
        "      <td> 14</td>\n",
        "      <td>  0</td>\n",
        "    </tr>\n",
        "    <tr>\n",
        "      <th>9   </th>\n",
        "      <td>  0</td>\n",
        "      <td> 20</td>\n",
        "      <td>  0</td>\n",
        "    </tr>\n",
        "    <tr>\n",
        "      <th>10  </th>\n",
        "      <td>  1</td>\n",
        "      <td>  2</td>\n",
        "      <td>  3</td>\n",
        "    </tr>\n",
        "    <tr>\n",
        "      <th>11  </th>\n",
        "      <td>  1</td>\n",
        "      <td>  5</td>\n",
        "      <td>  4</td>\n",
        "    </tr>\n",
        "    <tr>\n",
        "      <th>12  </th>\n",
        "      <td>  3</td>\n",
        "      <td> 20</td>\n",
        "      <td>  9</td>\n",
        "    </tr>\n",
        "    <tr>\n",
        "      <th>13  </th>\n",
        "      <td>  0</td>\n",
        "      <td>  6</td>\n",
        "      <td>  2</td>\n",
        "    </tr>\n",
        "    <tr>\n",
        "      <th>14  </th>\n",
        "      <td>  0</td>\n",
        "      <td>  3</td>\n",
        "      <td>  1</td>\n",
        "    </tr>\n",
        "    <tr>\n",
        "      <th>15  </th>\n",
        "      <td>  1</td>\n",
        "      <td> 11</td>\n",
        "      <td>  8</td>\n",
        "    </tr>\n",
        "    <tr>\n",
        "      <th>16  </th>\n",
        "      <td>  1</td>\n",
        "      <td> 10</td>\n",
        "      <td>  5</td>\n",
        "    </tr>\n",
        "    <tr>\n",
        "      <th>17  </th>\n",
        "      <td>  0</td>\n",
        "      <td>  7</td>\n",
        "      <td>  5</td>\n",
        "    </tr>\n",
        "    <tr>\n",
        "      <th>18  </th>\n",
        "      <td>  0</td>\n",
        "      <td> 10</td>\n",
        "      <td> 15</td>\n",
        "    </tr>\n",
        "    <tr>\n",
        "      <th>19  </th>\n",
        "      <td>  0</td>\n",
        "      <td>  6</td>\n",
        "      <td> 10</td>\n",
        "    </tr>\n",
        "    <tr>\n",
        "      <th>20  </th>\n",
        "      <td>  0</td>\n",
        "      <td>  0</td>\n",
        "      <td>  2</td>\n",
        "    </tr>\n",
        "    <tr>\n",
        "      <th>21  </th>\n",
        "      <td>  1</td>\n",
        "      <td>  6</td>\n",
        "      <td>  3</td>\n",
        "    </tr>\n",
        "    <tr>\n",
        "      <th>22  </th>\n",
        "      <td>  0</td>\n",
        "      <td>  0</td>\n",
        "      <td>  2</td>\n",
        "    </tr>\n",
        "    <tr>\n",
        "      <th>23  </th>\n",
        "      <td>  0</td>\n",
        "      <td>  0</td>\n",
        "      <td>  0</td>\n",
        "    </tr>\n",
        "    <tr>\n",
        "      <th>24  </th>\n",
        "      <td>  0</td>\n",
        "      <td>  5</td>\n",
        "      <td>  2</td>\n",
        "    </tr>\n",
        "    <tr>\n",
        "      <th>25  </th>\n",
        "      <td>  0</td>\n",
        "      <td> 12</td>\n",
        "      <td>  4</td>\n",
        "    </tr>\n",
        "    <tr>\n",
        "      <th>26  </th>\n",
        "      <td>  1</td>\n",
        "      <td>  2</td>\n",
        "      <td>  7</td>\n",
        "    </tr>\n",
        "    <tr>\n",
        "      <th>27  </th>\n",
        "      <td>  0</td>\n",
        "      <td>  7</td>\n",
        "      <td>  6</td>\n",
        "    </tr>\n",
        "    <tr>\n",
        "      <th>28  </th>\n",
        "      <td>  0</td>\n",
        "      <td>  0</td>\n",
        "      <td>  1</td>\n",
        "    </tr>\n",
        "    <tr>\n",
        "      <th>29  </th>\n",
        "      <td>  0</td>\n",
        "      <td>  3</td>\n",
        "      <td>  0</td>\n",
        "    </tr>\n",
        "    <tr>\n",
        "      <th>...</th>\n",
        "      <td>...</td>\n",
        "      <td>...</td>\n",
        "      <td>...</td>\n",
        "    </tr>\n",
        "    <tr>\n",
        "      <th>1990</th>\n",
        "      <td>  7</td>\n",
        "      <td>  6</td>\n",
        "      <td>  3</td>\n",
        "    </tr>\n",
        "    <tr>\n",
        "      <th>1991</th>\n",
        "      <td>  7</td>\n",
        "      <td> 14</td>\n",
        "      <td>  4</td>\n",
        "    </tr>\n",
        "    <tr>\n",
        "      <th>1992</th>\n",
        "      <td>  4</td>\n",
        "      <td> 20</td>\n",
        "      <td>  5</td>\n",
        "    </tr>\n",
        "    <tr>\n",
        "      <th>1993</th>\n",
        "      <td>  4</td>\n",
        "      <td> 13</td>\n",
        "      <td>  4</td>\n",
        "    </tr>\n",
        "    <tr>\n",
        "      <th>1994</th>\n",
        "      <td>  5</td>\n",
        "      <td> 20</td>\n",
        "      <td>  0</td>\n",
        "    </tr>\n",
        "    <tr>\n",
        "      <th>1995</th>\n",
        "      <td>  6</td>\n",
        "      <td> 26</td>\n",
        "      <td>  3</td>\n",
        "    </tr>\n",
        "    <tr>\n",
        "      <th>1996</th>\n",
        "      <td>  4</td>\n",
        "      <td> 21</td>\n",
        "      <td>  0</td>\n",
        "    </tr>\n",
        "    <tr>\n",
        "      <th>1997</th>\n",
        "      <td>  7</td>\n",
        "      <td> 25</td>\n",
        "      <td>  4</td>\n",
        "    </tr>\n",
        "    <tr>\n",
        "      <th>1998</th>\n",
        "      <td>  5</td>\n",
        "      <td> 18</td>\n",
        "      <td>  8</td>\n",
        "    </tr>\n",
        "    <tr>\n",
        "      <th>1999</th>\n",
        "      <td>  3</td>\n",
        "      <td> 13</td>\n",
        "      <td>  2</td>\n",
        "    </tr>\n",
        "    <tr>\n",
        "      <th>2000</th>\n",
        "      <td>  0</td>\n",
        "      <td> 21</td>\n",
        "      <td>  7</td>\n",
        "    </tr>\n",
        "    <tr>\n",
        "      <th>2001</th>\n",
        "      <td>  1</td>\n",
        "      <td>  8</td>\n",
        "      <td>  4</td>\n",
        "    </tr>\n",
        "    <tr>\n",
        "      <th>2002</th>\n",
        "      <td>  1</td>\n",
        "      <td>  8</td>\n",
        "      <td> 11</td>\n",
        "    </tr>\n",
        "    <tr>\n",
        "      <th>2003</th>\n",
        "      <td>  1</td>\n",
        "      <td> 28</td>\n",
        "      <td> 11</td>\n",
        "    </tr>\n",
        "    <tr>\n",
        "      <th>2004</th>\n",
        "      <td>  0</td>\n",
        "      <td>  8</td>\n",
        "      <td>  6</td>\n",
        "    </tr>\n",
        "    <tr>\n",
        "      <th>2005</th>\n",
        "      <td>  2</td>\n",
        "      <td> 23</td>\n",
        "      <td> 11</td>\n",
        "    </tr>\n",
        "    <tr>\n",
        "      <th>2006</th>\n",
        "      <td>  0</td>\n",
        "      <td> 13</td>\n",
        "      <td>  8</td>\n",
        "    </tr>\n",
        "    <tr>\n",
        "      <th>2007</th>\n",
        "      <td>  0</td>\n",
        "      <td> 11</td>\n",
        "      <td>  4</td>\n",
        "    </tr>\n",
        "    <tr>\n",
        "      <th>2008</th>\n",
        "      <td>  2</td>\n",
        "      <td> 11</td>\n",
        "      <td>  7</td>\n",
        "    </tr>\n",
        "    <tr>\n",
        "      <th>2009</th>\n",
        "      <td>  1</td>\n",
        "      <td> 15</td>\n",
        "      <td>  5</td>\n",
        "    </tr>\n",
        "    <tr>\n",
        "      <th>2010</th>\n",
        "      <td> 11</td>\n",
        "      <td> 23</td>\n",
        "      <td>  3</td>\n",
        "    </tr>\n",
        "    <tr>\n",
        "      <th>2011</th>\n",
        "      <td>  6</td>\n",
        "      <td> 20</td>\n",
        "      <td>  3</td>\n",
        "    </tr>\n",
        "    <tr>\n",
        "      <th>2012</th>\n",
        "      <td>  2</td>\n",
        "      <td> 12</td>\n",
        "      <td>  3</td>\n",
        "    </tr>\n",
        "    <tr>\n",
        "      <th>2013</th>\n",
        "      <td>  9</td>\n",
        "      <td> 22</td>\n",
        "      <td>  2</td>\n",
        "    </tr>\n",
        "    <tr>\n",
        "      <th>2014</th>\n",
        "      <td>  5</td>\n",
        "      <td> 27</td>\n",
        "      <td>  5</td>\n",
        "    </tr>\n",
        "    <tr>\n",
        "      <th>2015</th>\n",
        "      <td>  3</td>\n",
        "      <td> 16</td>\n",
        "      <td>  2</td>\n",
        "    </tr>\n",
        "    <tr>\n",
        "      <th>2016</th>\n",
        "      <td>  7</td>\n",
        "      <td> 21</td>\n",
        "      <td>  3</td>\n",
        "    </tr>\n",
        "    <tr>\n",
        "      <th>2017</th>\n",
        "      <td>  3</td>\n",
        "      <td> 24</td>\n",
        "      <td>  0</td>\n",
        "    </tr>\n",
        "    <tr>\n",
        "      <th>2018</th>\n",
        "      <td>  8</td>\n",
        "      <td> 28</td>\n",
        "      <td>  4</td>\n",
        "    </tr>\n",
        "    <tr>\n",
        "      <th>2019</th>\n",
        "      <td>  7</td>\n",
        "      <td> 13</td>\n",
        "      <td>  6</td>\n",
        "    </tr>\n",
        "  </tbody>\n",
        "</table>\n",
        "<p>2020 rows \u00d7 3 columns</p>\n",
        "</div>"
       ],
       "metadata": {},
       "output_type": "pyout",
       "prompt_number": 14,
       "text": [
        "      AST  PTS  REB\n",
        "0       0    2    0\n",
        "1       0   12    0\n",
        "2       0    0    0\n",
        "3       0    2    0\n",
        "4       0   10    0\n",
        "5       0   20    0\n",
        "6       0    0    0\n",
        "7       0    6    0\n",
        "8       0   14    0\n",
        "9       0   20    0\n",
        "10      1    2    3\n",
        "11      1    5    4\n",
        "12      3   20    9\n",
        "13      0    6    2\n",
        "14      0    3    1\n",
        "15      1   11    8\n",
        "16      1   10    5\n",
        "17      0    7    5\n",
        "18      0   10   15\n",
        "19      0    6   10\n",
        "20      0    0    2\n",
        "21      1    6    3\n",
        "22      0    0    2\n",
        "23      0    0    0\n",
        "24      0    5    2\n",
        "25      0   12    4\n",
        "26      1    2    7\n",
        "27      0    7    6\n",
        "28      0    0    1\n",
        "29      0    3    0\n",
        "...   ...  ...  ...\n",
        "1990    7    6    3\n",
        "1991    7   14    4\n",
        "1992    4   20    5\n",
        "1993    4   13    4\n",
        "1994    5   20    0\n",
        "1995    6   26    3\n",
        "1996    4   21    0\n",
        "1997    7   25    4\n",
        "1998    5   18    8\n",
        "1999    3   13    2\n",
        "2000    0   21    7\n",
        "2001    1    8    4\n",
        "2002    1    8   11\n",
        "2003    1   28   11\n",
        "2004    0    8    6\n",
        "2005    2   23   11\n",
        "2006    0   13    8\n",
        "2007    0   11    4\n",
        "2008    2   11    7\n",
        "2009    1   15    5\n",
        "2010   11   23    3\n",
        "2011    6   20    3\n",
        "2012    2   12    3\n",
        "2013    9   22    2\n",
        "2014    5   27    5\n",
        "2015    3   16    2\n",
        "2016    7   21    3\n",
        "2017    3   24    0\n",
        "2018    8   28    4\n",
        "2019    7   13    6\n",
        "\n",
        "[2020 rows x 3 columns]"
       ]
      }
     ],
     "prompt_number": 14
    },
    {
     "cell_type": "code",
     "collapsed": false,
     "input": [
      "type(query_results)"
     ],
     "language": "python",
     "metadata": {},
     "outputs": [
      {
       "metadata": {},
       "output_type": "pyout",
       "prompt_number": 12,
       "text": [
        "tuple"
       ]
      }
     ],
     "prompt_number": 12
    },
    {
     "cell_type": "code",
     "collapsed": false,
     "input": [],
     "language": "python",
     "metadata": {},
     "outputs": []
    }
   ],
   "metadata": {}
  }
 ]
}